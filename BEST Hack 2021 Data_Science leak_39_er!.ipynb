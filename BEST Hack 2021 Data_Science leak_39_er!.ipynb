{
 "cells": [
  {
   "cell_type": "code",
   "execution_count": 1,
   "metadata": {
    "colab": {
     "base_uri": "https://localhost:8080/"
    },
    "id": "BYqPXivulg_d",
    "outputId": "cf991595-3753-44ea-b54f-0e47f6145844"
   },
   "outputs": [],
   "source": [
    "# установка необходимых библиотек (при необходимости)\n",
    "\n",
    "#!pip install patool\n",
    "#!pip install category_encoders"
   ]
  },
  {
   "cell_type": "code",
   "execution_count": 1,
   "metadata": {
    "id": "qAUdw9O2kRRb"
   },
   "outputs": [],
   "source": [
    "from sklearn.model_selection import train_test_split\n",
    "from sklearn.preprocessing import Normalizer\n",
    "import matplotlib.pyplot as plt\n",
    "import sklearn.preprocessing\n",
    "import sklearn.metrics\n",
    "import seaborn as sns\n",
    "import pandas as pd\n",
    "import numpy as np\n",
    "import warnings\n",
    "\n",
    "warnings.filterwarnings('ignore')\n",
    "plt.style.use('ggplot')\n",
    "%matplotlib inline"
   ]
  },
  {
   "cell_type": "markdown",
   "metadata": {},
   "source": [
    "# Загрузка данных"
   ]
  },
  {
   "cell_type": "code",
   "execution_count": 2,
   "metadata": {
    "colab": {
     "base_uri": "https://localhost:8080/",
     "height": 439
    },
    "id": "_OKmwkVXmRal",
    "outputId": "3d696ca4-901f-4987-c355-1fdc5f2d7508",
    "scrolled": true
   },
   "outputs": [
    {
     "name": "stdout",
     "output_type": "stream",
     "text": [
      "(177963, 220)\n"
     ]
    },
    {
     "data": {
      "text/html": [
       "<div>\n",
       "<style scoped>\n",
       "    .dataframe tbody tr th:only-of-type {\n",
       "        vertical-align: middle;\n",
       "    }\n",
       "\n",
       "    .dataframe tbody tr th {\n",
       "        vertical-align: top;\n",
       "    }\n",
       "\n",
       "    .dataframe thead th {\n",
       "        text-align: right;\n",
       "    }\n",
       "</style>\n",
       "<table border=\"1\" class=\"dataframe\">\n",
       "  <thead>\n",
       "    <tr style=\"text-align: right;\">\n",
       "      <th></th>\n",
       "      <th>client_id</th>\n",
       "      <th>report_date</th>\n",
       "      <th>cnt_zp_1m</th>\n",
       "      <th>cnt_zp_3m</th>\n",
       "      <th>cnt_zp_6m</th>\n",
       "      <th>cnt_zp_12m</th>\n",
       "      <th>downlimit_count</th>\n",
       "      <th>uplimit_count</th>\n",
       "      <th>limit_exchange_count</th>\n",
       "      <th>cur_credit_limit</th>\n",
       "      <th>...</th>\n",
       "      <th>curdel_30plus_bki</th>\n",
       "      <th>curdel_60plus_bank</th>\n",
       "      <th>curdel_60plus_bki</th>\n",
       "      <th>curdel_tech_bank</th>\n",
       "      <th>curdel_tech_bki</th>\n",
       "      <th>bank_1_29_5y_debtor</th>\n",
       "      <th>bank_30_59_5y_debtor</th>\n",
       "      <th>bank_60_89_5y_debtor</th>\n",
       "      <th>bank_90_119_5y_debtor</th>\n",
       "      <th>bank_120plus_5y_debtor</th>\n",
       "    </tr>\n",
       "  </thead>\n",
       "  <tbody>\n",
       "    <tr>\n",
       "      <th>0</th>\n",
       "      <td>4268</td>\n",
       "      <td>2019-11-01</td>\n",
       "      <td>NaN</td>\n",
       "      <td>NaN</td>\n",
       "      <td>NaN</td>\n",
       "      <td>NaN</td>\n",
       "      <td>NaN</td>\n",
       "      <td>NaN</td>\n",
       "      <td>NaN</td>\n",
       "      <td>NaN</td>\n",
       "      <td>...</td>\n",
       "      <td>NaN</td>\n",
       "      <td>NaN</td>\n",
       "      <td>NaN</td>\n",
       "      <td>NaN</td>\n",
       "      <td>NaN</td>\n",
       "      <td>NaN</td>\n",
       "      <td>NaN</td>\n",
       "      <td>NaN</td>\n",
       "      <td>NaN</td>\n",
       "      <td>NaN</td>\n",
       "    </tr>\n",
       "    <tr>\n",
       "      <th>1</th>\n",
       "      <td>8951</td>\n",
       "      <td>2019-11-01</td>\n",
       "      <td>NaN</td>\n",
       "      <td>NaN</td>\n",
       "      <td>NaN</td>\n",
       "      <td>NaN</td>\n",
       "      <td>NaN</td>\n",
       "      <td>NaN</td>\n",
       "      <td>NaN</td>\n",
       "      <td>NaN</td>\n",
       "      <td>...</td>\n",
       "      <td>NaN</td>\n",
       "      <td>NaN</td>\n",
       "      <td>NaN</td>\n",
       "      <td>NaN</td>\n",
       "      <td>NaN</td>\n",
       "      <td>NaN</td>\n",
       "      <td>NaN</td>\n",
       "      <td>NaN</td>\n",
       "      <td>NaN</td>\n",
       "      <td>NaN</td>\n",
       "    </tr>\n",
       "    <tr>\n",
       "      <th>2</th>\n",
       "      <td>3485</td>\n",
       "      <td>2019-11-01</td>\n",
       "      <td>NaN</td>\n",
       "      <td>NaN</td>\n",
       "      <td>NaN</td>\n",
       "      <td>NaN</td>\n",
       "      <td>NaN</td>\n",
       "      <td>NaN</td>\n",
       "      <td>NaN</td>\n",
       "      <td>NaN</td>\n",
       "      <td>...</td>\n",
       "      <td>NaN</td>\n",
       "      <td>NaN</td>\n",
       "      <td>NaN</td>\n",
       "      <td>NaN</td>\n",
       "      <td>NaN</td>\n",
       "      <td>NaN</td>\n",
       "      <td>NaN</td>\n",
       "      <td>NaN</td>\n",
       "      <td>NaN</td>\n",
       "      <td>NaN</td>\n",
       "    </tr>\n",
       "    <tr>\n",
       "      <th>3</th>\n",
       "      <td>8008</td>\n",
       "      <td>2019-11-01</td>\n",
       "      <td>2.0</td>\n",
       "      <td>6.0</td>\n",
       "      <td>12.0</td>\n",
       "      <td>24.0</td>\n",
       "      <td>NaN</td>\n",
       "      <td>NaN</td>\n",
       "      <td>NaN</td>\n",
       "      <td>NaN</td>\n",
       "      <td>...</td>\n",
       "      <td>0.0</td>\n",
       "      <td>0.0</td>\n",
       "      <td>0.0</td>\n",
       "      <td>0.0</td>\n",
       "      <td>0.0</td>\n",
       "      <td>0.0</td>\n",
       "      <td>0.0</td>\n",
       "      <td>0.0</td>\n",
       "      <td>0.0</td>\n",
       "      <td>0.0</td>\n",
       "    </tr>\n",
       "    <tr>\n",
       "      <th>4</th>\n",
       "      <td>1615</td>\n",
       "      <td>2019-11-01</td>\n",
       "      <td>NaN</td>\n",
       "      <td>NaN</td>\n",
       "      <td>NaN</td>\n",
       "      <td>NaN</td>\n",
       "      <td>0.0</td>\n",
       "      <td>0.0</td>\n",
       "      <td>0.0</td>\n",
       "      <td>0.0</td>\n",
       "      <td>...</td>\n",
       "      <td>0.0</td>\n",
       "      <td>0.0</td>\n",
       "      <td>0.0</td>\n",
       "      <td>0.0</td>\n",
       "      <td>0.0</td>\n",
       "      <td>0.0</td>\n",
       "      <td>0.0</td>\n",
       "      <td>0.0</td>\n",
       "      <td>0.0</td>\n",
       "      <td>0.0</td>\n",
       "    </tr>\n",
       "  </tbody>\n",
       "</table>\n",
       "<p>5 rows × 220 columns</p>\n",
       "</div>"
      ],
      "text/plain": [
       "   client_id report_date  cnt_zp_1m  cnt_zp_3m  cnt_zp_6m  cnt_zp_12m  \\\n",
       "0       4268  2019-11-01        NaN        NaN        NaN         NaN   \n",
       "1       8951  2019-11-01        NaN        NaN        NaN         NaN   \n",
       "2       3485  2019-11-01        NaN        NaN        NaN         NaN   \n",
       "3       8008  2019-11-01        2.0        6.0       12.0        24.0   \n",
       "4       1615  2019-11-01        NaN        NaN        NaN         NaN   \n",
       "\n",
       "   downlimit_count  uplimit_count  limit_exchange_count  cur_credit_limit  \\\n",
       "0              NaN            NaN                   NaN               NaN   \n",
       "1              NaN            NaN                   NaN               NaN   \n",
       "2              NaN            NaN                   NaN               NaN   \n",
       "3              NaN            NaN                   NaN               NaN   \n",
       "4              0.0            0.0                   0.0               0.0   \n",
       "\n",
       "   ...  curdel_30plus_bki  curdel_60plus_bank  curdel_60plus_bki  \\\n",
       "0  ...                NaN                 NaN                NaN   \n",
       "1  ...                NaN                 NaN                NaN   \n",
       "2  ...                NaN                 NaN                NaN   \n",
       "3  ...                0.0                 0.0                0.0   \n",
       "4  ...                0.0                 0.0                0.0   \n",
       "\n",
       "   curdel_tech_bank  curdel_tech_bki  bank_1_29_5y_debtor  \\\n",
       "0               NaN              NaN                  NaN   \n",
       "1               NaN              NaN                  NaN   \n",
       "2               NaN              NaN                  NaN   \n",
       "3               0.0              0.0                  0.0   \n",
       "4               0.0              0.0                  0.0   \n",
       "\n",
       "   bank_30_59_5y_debtor  bank_60_89_5y_debtor  bank_90_119_5y_debtor  \\\n",
       "0                   NaN                   NaN                    NaN   \n",
       "1                   NaN                   NaN                    NaN   \n",
       "2                   NaN                   NaN                    NaN   \n",
       "3                   0.0                   0.0                    0.0   \n",
       "4                   0.0                   0.0                    0.0   \n",
       "\n",
       "   bank_120plus_5y_debtor  \n",
       "0                     NaN  \n",
       "1                     NaN  \n",
       "2                     NaN  \n",
       "3                     0.0  \n",
       "4                     0.0  \n",
       "\n",
       "[5 rows x 220 columns]"
      ]
     },
     "execution_count": 2,
     "metadata": {},
     "output_type": "execute_result"
    }
   ],
   "source": [
    "aggregates = pd.read_csv('aggregates.csv', parse_dates=['report_date','cre_date'])\n",
    "print(aggregates.shape)\n",
    "aggregates.head()"
   ]
  },
  {
   "cell_type": "markdown",
   "metadata": {
    "id": "q_X_qKw2gHuF"
   },
   "source": [
    "### Нам важно показывать ли рекламу клиенту, иначе говоря, нуждается ли он хотя бы в одном потребительском кредите. \n",
    "### Поэтому создадим атрибут Y, который будет обозначать заинтересован ли клиент в потребительских кредитах"
   ]
  },
  {
   "cell_type": "code",
   "execution_count": 3,
   "metadata": {
    "id": "OC1D5DIcfOlN"
   },
   "outputs": [
    {
     "data": {
      "text/html": [
       "<div>\n",
       "<style scoped>\n",
       "    .dataframe tbody tr th:only-of-type {\n",
       "        vertical-align: middle;\n",
       "    }\n",
       "\n",
       "    .dataframe tbody tr th {\n",
       "        vertical-align: top;\n",
       "    }\n",
       "\n",
       "    .dataframe thead th {\n",
       "        text-align: right;\n",
       "    }\n",
       "</style>\n",
       "<table border=\"1\" class=\"dataframe\">\n",
       "  <thead>\n",
       "    <tr style=\"text-align: right;\">\n",
       "      <th></th>\n",
       "      <th>y</th>\n",
       "    </tr>\n",
       "  </thead>\n",
       "  <tbody>\n",
       "    <tr>\n",
       "      <th>0</th>\n",
       "      <td>0</td>\n",
       "    </tr>\n",
       "    <tr>\n",
       "      <th>1</th>\n",
       "      <td>0</td>\n",
       "    </tr>\n",
       "    <tr>\n",
       "      <th>2</th>\n",
       "      <td>0</td>\n",
       "    </tr>\n",
       "    <tr>\n",
       "      <th>3</th>\n",
       "      <td>0</td>\n",
       "    </tr>\n",
       "    <tr>\n",
       "      <th>4</th>\n",
       "      <td>0</td>\n",
       "    </tr>\n",
       "  </tbody>\n",
       "</table>\n",
       "</div>"
      ],
      "text/plain": [
       "   y\n",
       "0  0\n",
       "1  0\n",
       "2  0\n",
       "3  0\n",
       "4  0"
      ]
     },
     "execution_count": 3,
     "metadata": {},
     "output_type": "execute_result"
    }
   ],
   "source": [
    "aggregates['y'] = aggregates['cl_open'].apply(lambda x: int(x>0))\n",
    "aggregates[['y']].head()"
   ]
  },
  {
   "cell_type": "code",
   "execution_count": 4,
   "metadata": {
    "colab": {
     "base_uri": "https://localhost:8080/"
    },
    "id": "QqLxwn01fdvd",
    "outputId": "1defca6b-cdc9-410c-f61b-c7e22f8900f5"
   },
   "outputs": [
    {
     "data": {
      "text/plain": [
       "Text(0, 0.5, 'Количество открытых кредитов')"
      ]
     },
     "execution_count": 4,
     "metadata": {},
     "output_type": "execute_result"
    },
    {
     "data": {
      "image/png": "[encoded data removed]",
      "text/plain": [
       "<Figure size 720x432 with 1 Axes>"
      ]
     },
     "metadata": {
      "needs_background": "light"
     },
     "output_type": "display_data"
    }
   ],
   "source": [
    "ax = aggregates['cl_open'].value_counts().plot(kind = 'bar', figsize = (10,6), title = 'Количество кредитов')\n",
    "ax.set_xlabel(\"Количество людей\")\n",
    "ax.set_ylabel(\"Количество открытых кредитов\")"
   ]
  },
  {
   "cell_type": "code",
   "execution_count": 5,
   "metadata": {
    "id": "pVDgIpuni81j"
   },
   "outputs": [],
   "source": [
    "aggregates.drop(['cl_open'],axis=1,inplace=True)"
   ]
  },
  {
   "cell_type": "markdown",
   "metadata": {},
   "source": [
    "Заменим '',' ','0','unknown' в категориальных признаках на Na"
   ]
  },
  {
   "cell_type": "code",
   "execution_count": 7,
   "metadata": {},
   "outputs": [],
   "source": [
    "obj_col = aggregates.select_dtypes('O').columns.to_list()#object\n",
    "for col in obj_col:\n",
    "    aggregates[col]=aggregates[col].replace('0','')\n",
    "    aggregates[col].replace(' ',pd.NA, inplace = True)\n",
    "    aggregates[col].replace('unknown',pd.NA, inplace = True)\n",
    "    aggregates[col].replace('',pd.NA, inplace = True)"
   ]
  },
  {
   "cell_type": "code",
   "execution_count": 6,
   "metadata": {
    "colab": {
     "base_uri": "https://localhost:8080/",
     "height": 419
    },
    "id": "InxTw04ZmwKk",
    "outputId": "51b93e25-769b-44c4-e0c2-bb2954837f5a"
   },
   "outputs": [
    {
     "data": {
      "text/html": [
       "<div>\n",
       "<style scoped>\n",
       "    .dataframe tbody tr th:only-of-type {\n",
       "        vertical-align: middle;\n",
       "    }\n",
       "\n",
       "    .dataframe tbody tr th {\n",
       "        vertical-align: top;\n",
       "    }\n",
       "\n",
       "    .dataframe thead th {\n",
       "        text-align: right;\n",
       "    }\n",
       "</style>\n",
       "<table border=\"1\" class=\"dataframe\">\n",
       "  <thead>\n",
       "    <tr style=\"text-align: right;\">\n",
       "      <th></th>\n",
       "      <th>client_id</th>\n",
       "      <th>last_day_month</th>\n",
       "      <th>mcc_group</th>\n",
       "      <th>att_sum</th>\n",
       "      <th>att_cnt</th>\n",
       "      <th>att_sum_min</th>\n",
       "      <th>att_sum_max</th>\n",
       "      <th>att_sum_avg</th>\n",
       "    </tr>\n",
       "  </thead>\n",
       "  <tbody>\n",
       "    <tr>\n",
       "      <th>0</th>\n",
       "      <td>1322</td>\n",
       "      <td>2019-12-31</td>\n",
       "      <td>TRANSPORTATION</td>\n",
       "      <td>90.00</td>\n",
       "      <td>3</td>\n",
       "      <td>23.00</td>\n",
       "      <td>44.0</td>\n",
       "      <td>30.000000</td>\n",
       "    </tr>\n",
       "    <tr>\n",
       "      <th>1</th>\n",
       "      <td>7737</td>\n",
       "      <td>2019-05-31</td>\n",
       "      <td>RETAIL STORES</td>\n",
       "      <td>989.00</td>\n",
       "      <td>5</td>\n",
       "      <td>99.00</td>\n",
       "      <td>423.0</td>\n",
       "      <td>197.800000</td>\n",
       "    </tr>\n",
       "    <tr>\n",
       "      <th>2</th>\n",
       "      <td>9549</td>\n",
       "      <td>2020-03-31</td>\n",
       "      <td>NON FOOD RETAIL</td>\n",
       "      <td>11878.55</td>\n",
       "      <td>24</td>\n",
       "      <td>52.79</td>\n",
       "      <td>2303.0</td>\n",
       "      <td>494.939583</td>\n",
       "    </tr>\n",
       "    <tr>\n",
       "      <th>3</th>\n",
       "      <td>4562</td>\n",
       "      <td>2019-12-31</td>\n",
       "      <td>FINANCIAL SERVICES</td>\n",
       "      <td>15000.00</td>\n",
       "      <td>1</td>\n",
       "      <td>15000.00</td>\n",
       "      <td>15000.0</td>\n",
       "      <td>15000.000000</td>\n",
       "    </tr>\n",
       "    <tr>\n",
       "      <th>4</th>\n",
       "      <td>7112</td>\n",
       "      <td>2020-02-29</td>\n",
       "      <td>BUSINESS SERVICES</td>\n",
       "      <td>887.60</td>\n",
       "      <td>3</td>\n",
       "      <td>107.10</td>\n",
       "      <td>413.7</td>\n",
       "      <td>295.866666</td>\n",
       "    </tr>\n",
       "  </tbody>\n",
       "</table>\n",
       "</div>"
      ],
      "text/plain": [
       "   client_id last_day_month           mcc_group   att_sum  att_cnt  \\\n",
       "0       1322     2019-12-31      TRANSPORTATION     90.00        3   \n",
       "1       7737     2019-05-31       RETAIL STORES    989.00        5   \n",
       "2       9549     2020-03-31     NON FOOD RETAIL  11878.55       24   \n",
       "3       4562     2019-12-31  FINANCIAL SERVICES  15000.00        1   \n",
       "4       7112     2020-02-29   BUSINESS SERVICES    887.60        3   \n",
       "\n",
       "   att_sum_min  att_sum_max   att_sum_avg  \n",
       "0        23.00         44.0     30.000000  \n",
       "1        99.00        423.0    197.800000  \n",
       "2        52.79       2303.0    494.939583  \n",
       "3     15000.00      15000.0  15000.000000  \n",
       "4       107.10        413.7    295.866666  "
      ]
     },
     "execution_count": 6,
     "metadata": {},
     "output_type": "execute_result"
    }
   ],
   "source": [
    "transactions = pd.read_csv('transactions.csv',parse_dates=['last_day_month'])\n",
    "transactions.head()"
   ]
  },
  {
   "cell_type": "markdown",
   "metadata": {
    "id": "1Tvk9U_OENPy"
   },
   "source": [
    "# Предварительная обработка"
   ]
  },
  {
   "cell_type": "markdown",
   "metadata": {
    "id": "wpWycAsMENPy"
   },
   "source": [
    "## 1.  Объединим датасеты"
   ]
  },
  {
   "cell_type": "markdown",
   "metadata": {
    "id": "jhkVc7TqUyRv"
   },
   "source": [
    "### В transactions транзакции за месяц, а в aggregates данные на конкретный день, поэтому таблицы надо объединять по id клиента и месяцу(последнему дню месяца). \n",
    "### Добавим в aggregates последний день месяца"
   ]
  },
  {
   "cell_type": "code",
   "execution_count": 8,
   "metadata": {
    "colab": {
     "base_uri": "https://localhost:8080/",
     "height": 204
    },
    "id": "BsKjpGcWZG91",
    "outputId": "e53d3ece-7b09-4140-df84-6b2170c10a53"
   },
   "outputs": [
    {
     "data": {
      "text/html": [
       "<div>\n",
       "<style scoped>\n",
       "    .dataframe tbody tr th:only-of-type {\n",
       "        vertical-align: middle;\n",
       "    }\n",
       "\n",
       "    .dataframe tbody tr th {\n",
       "        vertical-align: top;\n",
       "    }\n",
       "\n",
       "    .dataframe thead th {\n",
       "        text-align: right;\n",
       "    }\n",
       "</style>\n",
       "<table border=\"1\" class=\"dataframe\">\n",
       "  <thead>\n",
       "    <tr style=\"text-align: right;\">\n",
       "      <th></th>\n",
       "      <th>report_date</th>\n",
       "      <th>last_day_month</th>\n",
       "    </tr>\n",
       "  </thead>\n",
       "  <tbody>\n",
       "    <tr>\n",
       "      <th>0</th>\n",
       "      <td>2019-11-01</td>\n",
       "      <td>2019-11-30</td>\n",
       "    </tr>\n",
       "    <tr>\n",
       "      <th>1</th>\n",
       "      <td>2019-11-01</td>\n",
       "      <td>2019-11-30</td>\n",
       "    </tr>\n",
       "    <tr>\n",
       "      <th>2</th>\n",
       "      <td>2019-11-01</td>\n",
       "      <td>2019-11-30</td>\n",
       "    </tr>\n",
       "    <tr>\n",
       "      <th>3</th>\n",
       "      <td>2019-11-01</td>\n",
       "      <td>2019-11-30</td>\n",
       "    </tr>\n",
       "    <tr>\n",
       "      <th>4</th>\n",
       "      <td>2019-11-01</td>\n",
       "      <td>2019-11-30</td>\n",
       "    </tr>\n",
       "  </tbody>\n",
       "</table>\n",
       "</div>"
      ],
      "text/plain": [
       "  report_date last_day_month\n",
       "0  2019-11-01     2019-11-30\n",
       "1  2019-11-01     2019-11-30\n",
       "2  2019-11-01     2019-11-30\n",
       "3  2019-11-01     2019-11-30\n",
       "4  2019-11-01     2019-11-30"
      ]
     },
     "execution_count": 8,
     "metadata": {},
     "output_type": "execute_result"
    }
   ],
   "source": [
    "import datetime\n",
    "\n",
    "\n",
    "def get_last_day_of_month(any_day):\n",
    "    \"\"\"Получает на вход дату, возвращает дату последнего дня в этом месяце\"\"\"\n",
    "    next_month = any_day.replace(day=28) + datetime.timedelta(days=4)\n",
    "    return next_month - datetime.timedelta(days=next_month.day)\n",
    "\n",
    "\n",
    "last_day_month=[]\n",
    "for i in range(len(aggregates.report_date)):\n",
    "    last_day_month.append(get_last_day_of_month(aggregates.report_date[i]))\n",
    "    \n",
    "aggregates[\"last_day_month\"] = last_day_month\n",
    "aggregates[[\"report_date\",\"last_day_month\"]].head()"
   ]
  },
  {
   "cell_type": "code",
   "execution_count": 9,
   "metadata": {
    "colab": {
     "base_uri": "https://localhost:8080/"
    },
    "id": "EkMJZk4tENP0",
    "outputId": "10f69ac4-c117-44b6-8275-47182926a06b"
   },
   "outputs": [
    {
     "name": "stdout",
     "output_type": "stream",
     "text": [
      "(aggregates) Количество строк до удаления = 177963\n",
      "(aggregates) Количество строк после удаления дубликатов = 177963\n"
     ]
    }
   ],
   "source": [
    "print(f\"(aggregates) Количество строк до удаления = {aggregates[['client_id','last_day_month']].shape[0]}\")\n",
    "print(f\"(aggregates) Количество строк после удаления дубликатов = {aggregates[['client_id','last_day_month']].drop_duplicates().shape[0]}\")"
   ]
  },
  {
   "cell_type": "markdown",
   "metadata": {},
   "source": [
    "### Нет повторений пар ['client_id','last_day_month'], а значит в любом месяце не было больше 1 записи ни о каком клиенте"
   ]
  },
  {
   "cell_type": "code",
   "execution_count": 10,
   "metadata": {
    "colab": {
     "base_uri": "https://localhost:8080/"
    },
    "id": "ReR6IxM7ENP0",
    "outputId": "53e81e8b-ded2-4500-9a10-009335d33ff2"
   },
   "outputs": [
    {
     "name": "stdout",
     "output_type": "stream",
     "text": [
      "(transactions) Количество строк до удаления = 751747\n",
      "(transactions) Количество строк после удаления дубликатов = 188556\n"
     ]
    }
   ],
   "source": [
    "print(f\"(transactions) Количество строк до удаления = {transactions[['client_id','last_day_month']].shape[0]}\")\n",
    "print(f\"(transactions) Количество строк после удаления дубликатов = {transactions[['client_id','last_day_month']].drop_duplicates().shape[0]}\")"
   ]
  },
  {
   "cell_type": "markdown",
   "metadata": {},
   "source": [
    "### Есть повторения пар ['client_id','last_day_month']"
   ]
  },
  {
   "cell_type": "code",
   "execution_count": 12,
   "metadata": {
    "colab": {
     "base_uri": "https://localhost:8080/"
    },
    "id": "rLR_gC4TENP0",
    "outputId": "8a0f1fae-8a8d-4523-c810-bd52f3b57427"
   },
   "outputs": [
    {
     "name": "stdout",
     "output_type": "stream",
     "text": [
      "(transactions) Количество строк до удаления = 751747\n",
      "(transactions) Количество строк после удаления дубликатов = 751747\n"
     ]
    }
   ],
   "source": [
    "print(f\"(transactions) Количество строк до удаления = {transactions[['client_id','last_day_month','mcc_group']].shape[0]}\")\n",
    "print(f\"(transactions) Количество строк после удаления дубликатов = {transactions[['client_id','last_day_month','mcc_group']].drop_duplicates().shape[0]}\")"
   ]
  },
  {
   "cell_type": "markdown",
   "metadata": {},
   "source": [
    "### Нет повторений пар ['client_id','last_day_month','mcc_group']\n",
    "### Значит, в любом месяце в любой группе МСС не было больше 1 записи ни о каком клиенте\n"
   ]
  },
  {
   "cell_type": "markdown",
   "metadata": {
    "id": "qZXJdpe5ENP1"
   },
   "source": [
    "### Как объединять таблицы?\n",
    "\n",
    "### 1 вариант Добавить к информации о клиенте его транзакции за месяц. Поскольку транзакции у одного человека за один месяц может быть много, нам придется сгруппировать все транзакции клиента(например, взять среднее значение всех сумм транзакций за месяц, моду группы МСС). Однако при таком подходе теряется информация о том, сколько денег было потрачено на конкретную группу МСС.\n",
    "\n",
    "### 2 вариант) Добавить к каждой записи о транзакциях за месяц на опеределенную группу МСС информацию об осуществившем их клиенте. При таком подходе информация о затратах на группы МСС сохраняется. Выберем этот вариант"
   ]
  },
  {
   "cell_type": "code",
   "execution_count": 13,
   "metadata": {
    "colab": {
     "base_uri": "https://localhost:8080/",
     "height": 507
    },
    "id": "VnFfnnEPUD9H",
    "outputId": "8c8f3f55-ef70-4e26-d64e-c7e537d5544c"
   },
   "outputs": [
    {
     "data": {
      "text/html": [
       "<div>\n",
       "<style scoped>\n",
       "    .dataframe tbody tr th:only-of-type {\n",
       "        vertical-align: middle;\n",
       "    }\n",
       "\n",
       "    .dataframe tbody tr th {\n",
       "        vertical-align: top;\n",
       "    }\n",
       "\n",
       "    .dataframe thead th {\n",
       "        text-align: right;\n",
       "    }\n",
       "</style>\n",
       "<table border=\"1\" class=\"dataframe\">\n",
       "  <thead>\n",
       "    <tr style=\"text-align: right;\">\n",
       "      <th></th>\n",
       "      <th>client_id</th>\n",
       "      <th>report_date</th>\n",
       "      <th>cnt_zp_1m</th>\n",
       "      <th>cnt_zp_3m</th>\n",
       "      <th>cnt_zp_6m</th>\n",
       "      <th>cnt_zp_12m</th>\n",
       "      <th>downlimit_count</th>\n",
       "      <th>uplimit_count</th>\n",
       "      <th>limit_exchange_count</th>\n",
       "      <th>cur_credit_limit</th>\n",
       "      <th>...</th>\n",
       "      <th>bank_90_119_5y_debtor</th>\n",
       "      <th>bank_120plus_5y_debtor</th>\n",
       "      <th>y</th>\n",
       "      <th>last_day_month</th>\n",
       "      <th>mcc_group</th>\n",
       "      <th>att_sum</th>\n",
       "      <th>att_cnt</th>\n",
       "      <th>att_sum_min</th>\n",
       "      <th>att_sum_max</th>\n",
       "      <th>att_sum_avg</th>\n",
       "    </tr>\n",
       "  </thead>\n",
       "  <tbody>\n",
       "    <tr>\n",
       "      <th>0</th>\n",
       "      <td>3485</td>\n",
       "      <td>2019-11-01</td>\n",
       "      <td>NaN</td>\n",
       "      <td>NaN</td>\n",
       "      <td>NaN</td>\n",
       "      <td>NaN</td>\n",
       "      <td>NaN</td>\n",
       "      <td>NaN</td>\n",
       "      <td>NaN</td>\n",
       "      <td>NaN</td>\n",
       "      <td>...</td>\n",
       "      <td>NaN</td>\n",
       "      <td>NaN</td>\n",
       "      <td>0.0</td>\n",
       "      <td>2019-11-30</td>\n",
       "      <td>FINANCIAL SERVICES</td>\n",
       "      <td>200000.00</td>\n",
       "      <td>1</td>\n",
       "      <td>200000.00</td>\n",
       "      <td>200000.0</td>\n",
       "      <td>200000.000</td>\n",
       "    </tr>\n",
       "    <tr>\n",
       "      <th>1</th>\n",
       "      <td>3485</td>\n",
       "      <td>2019-11-01</td>\n",
       "      <td>NaN</td>\n",
       "      <td>NaN</td>\n",
       "      <td>NaN</td>\n",
       "      <td>NaN</td>\n",
       "      <td>NaN</td>\n",
       "      <td>NaN</td>\n",
       "      <td>NaN</td>\n",
       "      <td>NaN</td>\n",
       "      <td>...</td>\n",
       "      <td>NaN</td>\n",
       "      <td>NaN</td>\n",
       "      <td>0.0</td>\n",
       "      <td>2019-11-30</td>\n",
       "      <td>AUTO</td>\n",
       "      <td>32623.38</td>\n",
       "      <td>4</td>\n",
       "      <td>975.87</td>\n",
       "      <td>23200.0</td>\n",
       "      <td>8155.845</td>\n",
       "    </tr>\n",
       "    <tr>\n",
       "      <th>2</th>\n",
       "      <td>3485</td>\n",
       "      <td>2019-11-01</td>\n",
       "      <td>NaN</td>\n",
       "      <td>NaN</td>\n",
       "      <td>NaN</td>\n",
       "      <td>NaN</td>\n",
       "      <td>NaN</td>\n",
       "      <td>NaN</td>\n",
       "      <td>NaN</td>\n",
       "      <td>NaN</td>\n",
       "      <td>...</td>\n",
       "      <td>NaN</td>\n",
       "      <td>NaN</td>\n",
       "      <td>0.0</td>\n",
       "      <td>2019-11-30</td>\n",
       "      <td>MEDICAL SERVICES</td>\n",
       "      <td>42400.00</td>\n",
       "      <td>1</td>\n",
       "      <td>42400.00</td>\n",
       "      <td>42400.0</td>\n",
       "      <td>42400.000</td>\n",
       "    </tr>\n",
       "    <tr>\n",
       "      <th>3</th>\n",
       "      <td>3485</td>\n",
       "      <td>2019-11-01</td>\n",
       "      <td>NaN</td>\n",
       "      <td>NaN</td>\n",
       "      <td>NaN</td>\n",
       "      <td>NaN</td>\n",
       "      <td>NaN</td>\n",
       "      <td>NaN</td>\n",
       "      <td>NaN</td>\n",
       "      <td>NaN</td>\n",
       "      <td>...</td>\n",
       "      <td>NaN</td>\n",
       "      <td>NaN</td>\n",
       "      <td>0.0</td>\n",
       "      <td>2019-11-30</td>\n",
       "      <td>REPAIR SERVICES</td>\n",
       "      <td>8997.50</td>\n",
       "      <td>1</td>\n",
       "      <td>8997.50</td>\n",
       "      <td>8997.5</td>\n",
       "      <td>8997.500</td>\n",
       "    </tr>\n",
       "    <tr>\n",
       "      <th>4</th>\n",
       "      <td>3485</td>\n",
       "      <td>2019-11-01</td>\n",
       "      <td>NaN</td>\n",
       "      <td>NaN</td>\n",
       "      <td>NaN</td>\n",
       "      <td>NaN</td>\n",
       "      <td>NaN</td>\n",
       "      <td>NaN</td>\n",
       "      <td>NaN</td>\n",
       "      <td>NaN</td>\n",
       "      <td>...</td>\n",
       "      <td>NaN</td>\n",
       "      <td>NaN</td>\n",
       "      <td>0.0</td>\n",
       "      <td>2019-11-30</td>\n",
       "      <td>NON FOOD RETAIL</td>\n",
       "      <td>2555.00</td>\n",
       "      <td>1</td>\n",
       "      <td>2555.00</td>\n",
       "      <td>2555.0</td>\n",
       "      <td>2555.000</td>\n",
       "    </tr>\n",
       "  </tbody>\n",
       "</table>\n",
       "<p>5 rows × 227 columns</p>\n",
       "</div>"
      ],
      "text/plain": [
       "   client_id report_date  cnt_zp_1m  cnt_zp_3m  cnt_zp_6m  cnt_zp_12m  \\\n",
       "0       3485  2019-11-01        NaN        NaN        NaN         NaN   \n",
       "1       3485  2019-11-01        NaN        NaN        NaN         NaN   \n",
       "2       3485  2019-11-01        NaN        NaN        NaN         NaN   \n",
       "3       3485  2019-11-01        NaN        NaN        NaN         NaN   \n",
       "4       3485  2019-11-01        NaN        NaN        NaN         NaN   \n",
       "\n",
       "   downlimit_count  uplimit_count  limit_exchange_count  cur_credit_limit  \\\n",
       "0              NaN            NaN                   NaN               NaN   \n",
       "1              NaN            NaN                   NaN               NaN   \n",
       "2              NaN            NaN                   NaN               NaN   \n",
       "3              NaN            NaN                   NaN               NaN   \n",
       "4              NaN            NaN                   NaN               NaN   \n",
       "\n",
       "   ...  bank_90_119_5y_debtor  bank_120plus_5y_debtor    y  last_day_month  \\\n",
       "0  ...                    NaN                     NaN  0.0      2019-11-30   \n",
       "1  ...                    NaN                     NaN  0.0      2019-11-30   \n",
       "2  ...                    NaN                     NaN  0.0      2019-11-30   \n",
       "3  ...                    NaN                     NaN  0.0      2019-11-30   \n",
       "4  ...                    NaN                     NaN  0.0      2019-11-30   \n",
       "\n",
       "            mcc_group    att_sum  att_cnt  att_sum_min  att_sum_max  \\\n",
       "0  FINANCIAL SERVICES  200000.00        1    200000.00     200000.0   \n",
       "1                AUTO   32623.38        4       975.87      23200.0   \n",
       "2    MEDICAL SERVICES   42400.00        1     42400.00      42400.0   \n",
       "3     REPAIR SERVICES    8997.50        1      8997.50       8997.5   \n",
       "4     NON FOOD RETAIL    2555.00        1      2555.00       2555.0   \n",
       "\n",
       "   att_sum_avg  \n",
       "0   200000.000  \n",
       "1     8155.845  \n",
       "2    42400.000  \n",
       "3     8997.500  \n",
       "4     2555.000  \n",
       "\n",
       "[5 rows x 227 columns]"
      ]
     },
     "execution_count": 13,
     "metadata": {},
     "output_type": "execute_result"
    }
   ],
   "source": [
    "df = aggregates.merge(transactions, on=['client_id','last_day_month'], how='right')\n",
    "df.head()"
   ]
  },
  {
   "cell_type": "markdown",
   "metadata": {
    "id": "R7l-kSDgENP2"
   },
   "source": [
    "## Наблюдаем очень большое количество отсутствующих значений"
   ]
  },
  {
   "cell_type": "code",
   "execution_count": 14,
   "metadata": {
    "colab": {
     "base_uri": "https://localhost:8080/",
     "height": 507
    },
    "id": "rF0kq-kCR7Pc",
    "outputId": "080dfcbf-5045-43d1-c080-ef4b73ef67cf"
   },
   "outputs": [
    {
     "data": {
      "text/html": [
       "<div>\n",
       "<style scoped>\n",
       "    .dataframe tbody tr th:only-of-type {\n",
       "        vertical-align: middle;\n",
       "    }\n",
       "\n",
       "    .dataframe tbody tr th {\n",
       "        vertical-align: top;\n",
       "    }\n",
       "\n",
       "    .dataframe thead th {\n",
       "        text-align: right;\n",
       "    }\n",
       "</style>\n",
       "<table border=\"1\" class=\"dataframe\">\n",
       "  <thead>\n",
       "    <tr style=\"text-align: right;\">\n",
       "      <th></th>\n",
       "      <th>client_id</th>\n",
       "      <th>report_date</th>\n",
       "      <th>cnt_zp_1m</th>\n",
       "      <th>cnt_zp_3m</th>\n",
       "      <th>cnt_zp_6m</th>\n",
       "      <th>cnt_zp_12m</th>\n",
       "      <th>downlimit_count</th>\n",
       "      <th>uplimit_count</th>\n",
       "      <th>limit_exchange_count</th>\n",
       "      <th>cur_credit_limit</th>\n",
       "      <th>...</th>\n",
       "      <th>bank_90_119_5y_debtor</th>\n",
       "      <th>bank_120plus_5y_debtor</th>\n",
       "      <th>y</th>\n",
       "      <th>last_day_month</th>\n",
       "      <th>mcc_group</th>\n",
       "      <th>att_sum</th>\n",
       "      <th>att_cnt</th>\n",
       "      <th>att_sum_min</th>\n",
       "      <th>att_sum_max</th>\n",
       "      <th>att_sum_avg</th>\n",
       "    </tr>\n",
       "  </thead>\n",
       "  <tbody>\n",
       "    <tr>\n",
       "      <th>0</th>\n",
       "      <td>3485</td>\n",
       "      <td>2019-11-01</td>\n",
       "      <td>NaN</td>\n",
       "      <td>NaN</td>\n",
       "      <td>NaN</td>\n",
       "      <td>NaN</td>\n",
       "      <td>NaN</td>\n",
       "      <td>NaN</td>\n",
       "      <td>NaN</td>\n",
       "      <td>NaN</td>\n",
       "      <td>...</td>\n",
       "      <td>NaN</td>\n",
       "      <td>NaN</td>\n",
       "      <td>0.0</td>\n",
       "      <td>2019-11-30</td>\n",
       "      <td>FINANCIAL SERVICES</td>\n",
       "      <td>200000.00</td>\n",
       "      <td>1</td>\n",
       "      <td>200000.00</td>\n",
       "      <td>200000.0</td>\n",
       "      <td>200000.000</td>\n",
       "    </tr>\n",
       "    <tr>\n",
       "      <th>1</th>\n",
       "      <td>3485</td>\n",
       "      <td>2019-11-01</td>\n",
       "      <td>NaN</td>\n",
       "      <td>NaN</td>\n",
       "      <td>NaN</td>\n",
       "      <td>NaN</td>\n",
       "      <td>NaN</td>\n",
       "      <td>NaN</td>\n",
       "      <td>NaN</td>\n",
       "      <td>NaN</td>\n",
       "      <td>...</td>\n",
       "      <td>NaN</td>\n",
       "      <td>NaN</td>\n",
       "      <td>0.0</td>\n",
       "      <td>2019-11-30</td>\n",
       "      <td>AUTO</td>\n",
       "      <td>32623.38</td>\n",
       "      <td>4</td>\n",
       "      <td>975.87</td>\n",
       "      <td>23200.0</td>\n",
       "      <td>8155.845</td>\n",
       "    </tr>\n",
       "    <tr>\n",
       "      <th>2</th>\n",
       "      <td>3485</td>\n",
       "      <td>2019-11-01</td>\n",
       "      <td>NaN</td>\n",
       "      <td>NaN</td>\n",
       "      <td>NaN</td>\n",
       "      <td>NaN</td>\n",
       "      <td>NaN</td>\n",
       "      <td>NaN</td>\n",
       "      <td>NaN</td>\n",
       "      <td>NaN</td>\n",
       "      <td>...</td>\n",
       "      <td>NaN</td>\n",
       "      <td>NaN</td>\n",
       "      <td>0.0</td>\n",
       "      <td>2019-11-30</td>\n",
       "      <td>MEDICAL SERVICES</td>\n",
       "      <td>42400.00</td>\n",
       "      <td>1</td>\n",
       "      <td>42400.00</td>\n",
       "      <td>42400.0</td>\n",
       "      <td>42400.000</td>\n",
       "    </tr>\n",
       "    <tr>\n",
       "      <th>3</th>\n",
       "      <td>3485</td>\n",
       "      <td>2019-11-01</td>\n",
       "      <td>NaN</td>\n",
       "      <td>NaN</td>\n",
       "      <td>NaN</td>\n",
       "      <td>NaN</td>\n",
       "      <td>NaN</td>\n",
       "      <td>NaN</td>\n",
       "      <td>NaN</td>\n",
       "      <td>NaN</td>\n",
       "      <td>...</td>\n",
       "      <td>NaN</td>\n",
       "      <td>NaN</td>\n",
       "      <td>0.0</td>\n",
       "      <td>2019-11-30</td>\n",
       "      <td>REPAIR SERVICES</td>\n",
       "      <td>8997.50</td>\n",
       "      <td>1</td>\n",
       "      <td>8997.50</td>\n",
       "      <td>8997.5</td>\n",
       "      <td>8997.500</td>\n",
       "    </tr>\n",
       "    <tr>\n",
       "      <th>4</th>\n",
       "      <td>3485</td>\n",
       "      <td>2019-11-01</td>\n",
       "      <td>NaN</td>\n",
       "      <td>NaN</td>\n",
       "      <td>NaN</td>\n",
       "      <td>NaN</td>\n",
       "      <td>NaN</td>\n",
       "      <td>NaN</td>\n",
       "      <td>NaN</td>\n",
       "      <td>NaN</td>\n",
       "      <td>...</td>\n",
       "      <td>NaN</td>\n",
       "      <td>NaN</td>\n",
       "      <td>0.0</td>\n",
       "      <td>2019-11-30</td>\n",
       "      <td>NON FOOD RETAIL</td>\n",
       "      <td>2555.00</td>\n",
       "      <td>1</td>\n",
       "      <td>2555.00</td>\n",
       "      <td>2555.0</td>\n",
       "      <td>2555.000</td>\n",
       "    </tr>\n",
       "  </tbody>\n",
       "</table>\n",
       "<p>5 rows × 227 columns</p>\n",
       "</div>"
      ],
      "text/plain": [
       "   client_id report_date  cnt_zp_1m  cnt_zp_3m  cnt_zp_6m  cnt_zp_12m  \\\n",
       "0       3485  2019-11-01        NaN        NaN        NaN         NaN   \n",
       "1       3485  2019-11-01        NaN        NaN        NaN         NaN   \n",
       "2       3485  2019-11-01        NaN        NaN        NaN         NaN   \n",
       "3       3485  2019-11-01        NaN        NaN        NaN         NaN   \n",
       "4       3485  2019-11-01        NaN        NaN        NaN         NaN   \n",
       "\n",
       "   downlimit_count  uplimit_count  limit_exchange_count  cur_credit_limit  \\\n",
       "0              NaN            NaN                   NaN               NaN   \n",
       "1              NaN            NaN                   NaN               NaN   \n",
       "2              NaN            NaN                   NaN               NaN   \n",
       "3              NaN            NaN                   NaN               NaN   \n",
       "4              NaN            NaN                   NaN               NaN   \n",
       "\n",
       "   ...  bank_90_119_5y_debtor  bank_120plus_5y_debtor    y  last_day_month  \\\n",
       "0  ...                    NaN                     NaN  0.0      2019-11-30   \n",
       "1  ...                    NaN                     NaN  0.0      2019-11-30   \n",
       "2  ...                    NaN                     NaN  0.0      2019-11-30   \n",
       "3  ...                    NaN                     NaN  0.0      2019-11-30   \n",
       "4  ...                    NaN                     NaN  0.0      2019-11-30   \n",
       "\n",
       "            mcc_group    att_sum  att_cnt  att_sum_min  att_sum_max  \\\n",
       "0  FINANCIAL SERVICES  200000.00        1    200000.00     200000.0   \n",
       "1                AUTO   32623.38        4       975.87      23200.0   \n",
       "2    MEDICAL SERVICES   42400.00        1     42400.00      42400.0   \n",
       "3     REPAIR SERVICES    8997.50        1      8997.50       8997.5   \n",
       "4     NON FOOD RETAIL    2555.00        1      2555.00       2555.0   \n",
       "\n",
       "   att_sum_avg  \n",
       "0   200000.000  \n",
       "1     8155.845  \n",
       "2    42400.000  \n",
       "3     8997.500  \n",
       "4     2555.000  \n",
       "\n",
       "[5 rows x 227 columns]"
      ]
     },
     "execution_count": 14,
     "metadata": {},
     "output_type": "execute_result"
    }
   ],
   "source": [
    "#удаляем записи, целиком состоящие из Na\n",
    "df.dropna(how='all',inplace=True)  \n",
    "df.head()"
   ]
  },
  {
   "cell_type": "code",
   "execution_count": 15,
   "metadata": {
    "colab": {
     "base_uri": "https://localhost:8080/",
     "height": 419
    },
    "id": "rWeZQZN8nP9h",
    "outputId": "2a1888a4-cc9d-4d51-ae29-0197ba7062bb",
    "scrolled": true
   },
   "outputs": [
    {
     "data": {
      "text/html": [
       "<div>\n",
       "<style scoped>\n",
       "    .dataframe tbody tr th:only-of-type {\n",
       "        vertical-align: middle;\n",
       "    }\n",
       "\n",
       "    .dataframe tbody tr th {\n",
       "        vertical-align: top;\n",
       "    }\n",
       "\n",
       "    .dataframe thead th {\n",
       "        text-align: right;\n",
       "    }\n",
       "</style>\n",
       "<table border=\"1\" class=\"dataframe\">\n",
       "  <thead>\n",
       "    <tr style=\"text-align: right;\">\n",
       "      <th></th>\n",
       "      <th>count</th>\n",
       "    </tr>\n",
       "  </thead>\n",
       "  <tbody>\n",
       "    <tr>\n",
       "      <th>max_term_50_5y_closed</th>\n",
       "      <td>0.0820768</td>\n",
       "    </tr>\n",
       "    <tr>\n",
       "      <th>ratio_cl_closed_gr500k</th>\n",
       "      <td>0.0810313</td>\n",
       "    </tr>\n",
       "    <tr>\n",
       "      <th>max_term_50_5y_open</th>\n",
       "      <td>0.0593937</td>\n",
       "    </tr>\n",
       "    <tr>\n",
       "      <th>min_amt_term_g1y_closed</th>\n",
       "      <td>0.0316583</td>\n",
       "    </tr>\n",
       "    <tr>\n",
       "      <th>max_amt_foreign_cur_5y</th>\n",
       "      <td>0.0205801</td>\n",
       "    </tr>\n",
       "  </tbody>\n",
       "</table>\n",
       "</div>"
      ],
      "text/plain": [
       "                             count\n",
       "max_term_50_5y_closed    0.0820768\n",
       "ratio_cl_closed_gr500k   0.0810313\n",
       "max_term_50_5y_open      0.0593937\n",
       "min_amt_term_g1y_closed  0.0316583\n",
       "max_amt_foreign_cur_5y   0.0205801"
      ]
     },
     "execution_count": 15,
     "metadata": {},
     "output_type": "execute_result"
    }
   ],
   "source": [
    "# Смотрим на процент не пропущенных значений в колонках\n",
    "col = df.describe(include='all').T[['count']].apply(lambda x: x/df.shape[0]).sort_values(by = 'count', ascending = False)\n",
    "col.tail()"
   ]
  },
  {
   "cell_type": "code",
   "execution_count": 16,
   "metadata": {
    "colab": {
     "base_uri": "https://localhost:8080/",
     "height": 419
    },
    "id": "WQr-NWc9RDPE",
    "outputId": "33fa876b-5194-4b34-978d-cd76a6af8aae"
   },
   "outputs": [
    {
     "data": {
      "text/html": [
       "<div>\n",
       "<style scoped>\n",
       "    .dataframe tbody tr th:only-of-type {\n",
       "        vertical-align: middle;\n",
       "    }\n",
       "\n",
       "    .dataframe tbody tr th {\n",
       "        vertical-align: top;\n",
       "    }\n",
       "\n",
       "    .dataframe thead th {\n",
       "        text-align: right;\n",
       "    }\n",
       "</style>\n",
       "<table border=\"1\" class=\"dataframe\">\n",
       "  <thead>\n",
       "    <tr style=\"text-align: right;\">\n",
       "      <th></th>\n",
       "      <th>count</th>\n",
       "    </tr>\n",
       "  </thead>\n",
       "  <tbody>\n",
       "    <tr>\n",
       "      <th>second_payment_default</th>\n",
       "      <td>0.511439</td>\n",
       "    </tr>\n",
       "    <tr>\n",
       "      <th>cnt_adv_repayment</th>\n",
       "      <td>0.511439</td>\n",
       "    </tr>\n",
       "    <tr>\n",
       "      <th>cnt_adv_repayment_gr_500k</th>\n",
       "      <td>0.511439</td>\n",
       "    </tr>\n",
       "    <tr>\n",
       "      <th>mrtg_open</th>\n",
       "      <td>0.511439</td>\n",
       "    </tr>\n",
       "    <tr>\n",
       "      <th>cnt_opened</th>\n",
       "      <td>0.511439</td>\n",
       "    </tr>\n",
       "  </tbody>\n",
       "</table>\n",
       "</div>"
      ],
      "text/plain": [
       "                              count\n",
       "second_payment_default     0.511439\n",
       "cnt_adv_repayment          0.511439\n",
       "cnt_adv_repayment_gr_500k  0.511439\n",
       "mrtg_open                  0.511439\n",
       "cnt_opened                 0.511439"
      ]
     },
     "execution_count": 16,
     "metadata": {},
     "output_type": "execute_result"
    }
   ],
   "source": [
    "#атрибуты, где больше 50% не пропущенных значений\n",
    "cols = col[col['count']>0.5]\n",
    "cols.tail()"
   ]
  },
  {
   "cell_type": "code",
   "execution_count": 17,
   "metadata": {
    "colab": {
     "base_uri": "https://localhost:8080/",
     "height": 592
    },
    "id": "q80mjyKfSRsF",
    "outputId": "81155175-9d8f-4ca8-e7b4-b0162a39e10d"
   },
   "outputs": [
    {
     "data": {
      "text/html": [
       "<div>\n",
       "<style scoped>\n",
       "    .dataframe tbody tr th:only-of-type {\n",
       "        vertical-align: middle;\n",
       "    }\n",
       "\n",
       "    .dataframe tbody tr th {\n",
       "        vertical-align: top;\n",
       "    }\n",
       "\n",
       "    .dataframe thead th {\n",
       "        text-align: right;\n",
       "    }\n",
       "</style>\n",
       "<table border=\"1\" class=\"dataframe\">\n",
       "  <thead>\n",
       "    <tr style=\"text-align: right;\">\n",
       "      <th></th>\n",
       "      <th>client_id</th>\n",
       "      <th>last_day_month</th>\n",
       "      <th>att_sum_max</th>\n",
       "      <th>att_sum_min</th>\n",
       "      <th>att_cnt</th>\n",
       "      <th>att_sum</th>\n",
       "      <th>mcc_group</th>\n",
       "      <th>att_sum_avg</th>\n",
       "      <th>age</th>\n",
       "      <th>report_date</th>\n",
       "      <th>...</th>\n",
       "      <th>bank_count_first_12m_1</th>\n",
       "      <th>bank_count_first_12m_30</th>\n",
       "      <th>bank_count_first_12m_60</th>\n",
       "      <th>bank_count_first_12m_90</th>\n",
       "      <th>first_payment_default</th>\n",
       "      <th>second_payment_default</th>\n",
       "      <th>cnt_adv_repayment</th>\n",
       "      <th>cnt_adv_repayment_gr_500k</th>\n",
       "      <th>mrtg_open</th>\n",
       "      <th>cnt_opened</th>\n",
       "    </tr>\n",
       "  </thead>\n",
       "  <tbody>\n",
       "    <tr>\n",
       "      <th>0</th>\n",
       "      <td>3485</td>\n",
       "      <td>2019-11-30</td>\n",
       "      <td>200000.0</td>\n",
       "      <td>200000.00</td>\n",
       "      <td>1</td>\n",
       "      <td>200000.00</td>\n",
       "      <td>FINANCIAL SERVICES</td>\n",
       "      <td>200000.000</td>\n",
       "      <td>43.954301</td>\n",
       "      <td>2019-11-01</td>\n",
       "      <td>...</td>\n",
       "      <td>NaN</td>\n",
       "      <td>NaN</td>\n",
       "      <td>NaN</td>\n",
       "      <td>NaN</td>\n",
       "      <td>NaN</td>\n",
       "      <td>NaN</td>\n",
       "      <td>NaN</td>\n",
       "      <td>NaN</td>\n",
       "      <td>NaN</td>\n",
       "      <td>NaN</td>\n",
       "    </tr>\n",
       "    <tr>\n",
       "      <th>1</th>\n",
       "      <td>3485</td>\n",
       "      <td>2019-11-30</td>\n",
       "      <td>23200.0</td>\n",
       "      <td>975.87</td>\n",
       "      <td>4</td>\n",
       "      <td>32623.38</td>\n",
       "      <td>AUTO</td>\n",
       "      <td>8155.845</td>\n",
       "      <td>43.954301</td>\n",
       "      <td>2019-11-01</td>\n",
       "      <td>...</td>\n",
       "      <td>NaN</td>\n",
       "      <td>NaN</td>\n",
       "      <td>NaN</td>\n",
       "      <td>NaN</td>\n",
       "      <td>NaN</td>\n",
       "      <td>NaN</td>\n",
       "      <td>NaN</td>\n",
       "      <td>NaN</td>\n",
       "      <td>NaN</td>\n",
       "      <td>NaN</td>\n",
       "    </tr>\n",
       "    <tr>\n",
       "      <th>2</th>\n",
       "      <td>3485</td>\n",
       "      <td>2019-11-30</td>\n",
       "      <td>42400.0</td>\n",
       "      <td>42400.00</td>\n",
       "      <td>1</td>\n",
       "      <td>42400.00</td>\n",
       "      <td>MEDICAL SERVICES</td>\n",
       "      <td>42400.000</td>\n",
       "      <td>43.954301</td>\n",
       "      <td>2019-11-01</td>\n",
       "      <td>...</td>\n",
       "      <td>NaN</td>\n",
       "      <td>NaN</td>\n",
       "      <td>NaN</td>\n",
       "      <td>NaN</td>\n",
       "      <td>NaN</td>\n",
       "      <td>NaN</td>\n",
       "      <td>NaN</td>\n",
       "      <td>NaN</td>\n",
       "      <td>NaN</td>\n",
       "      <td>NaN</td>\n",
       "    </tr>\n",
       "    <tr>\n",
       "      <th>3</th>\n",
       "      <td>3485</td>\n",
       "      <td>2019-11-30</td>\n",
       "      <td>8997.5</td>\n",
       "      <td>8997.50</td>\n",
       "      <td>1</td>\n",
       "      <td>8997.50</td>\n",
       "      <td>REPAIR SERVICES</td>\n",
       "      <td>8997.500</td>\n",
       "      <td>43.954301</td>\n",
       "      <td>2019-11-01</td>\n",
       "      <td>...</td>\n",
       "      <td>NaN</td>\n",
       "      <td>NaN</td>\n",
       "      <td>NaN</td>\n",
       "      <td>NaN</td>\n",
       "      <td>NaN</td>\n",
       "      <td>NaN</td>\n",
       "      <td>NaN</td>\n",
       "      <td>NaN</td>\n",
       "      <td>NaN</td>\n",
       "      <td>NaN</td>\n",
       "    </tr>\n",
       "    <tr>\n",
       "      <th>4</th>\n",
       "      <td>3485</td>\n",
       "      <td>2019-11-30</td>\n",
       "      <td>2555.0</td>\n",
       "      <td>2555.00</td>\n",
       "      <td>1</td>\n",
       "      <td>2555.00</td>\n",
       "      <td>NON FOOD RETAIL</td>\n",
       "      <td>2555.000</td>\n",
       "      <td>43.954301</td>\n",
       "      <td>2019-11-01</td>\n",
       "      <td>...</td>\n",
       "      <td>NaN</td>\n",
       "      <td>NaN</td>\n",
       "      <td>NaN</td>\n",
       "      <td>NaN</td>\n",
       "      <td>NaN</td>\n",
       "      <td>NaN</td>\n",
       "      <td>NaN</td>\n",
       "      <td>NaN</td>\n",
       "      <td>NaN</td>\n",
       "      <td>NaN</td>\n",
       "    </tr>\n",
       "  </tbody>\n",
       "</table>\n",
       "<p>5 rows × 114 columns</p>\n",
       "</div>"
      ],
      "text/plain": [
       "   client_id last_day_month  att_sum_max  att_sum_min  att_cnt    att_sum  \\\n",
       "0       3485     2019-11-30     200000.0    200000.00        1  200000.00   \n",
       "1       3485     2019-11-30      23200.0       975.87        4   32623.38   \n",
       "2       3485     2019-11-30      42400.0     42400.00        1   42400.00   \n",
       "3       3485     2019-11-30       8997.5      8997.50        1    8997.50   \n",
       "4       3485     2019-11-30       2555.0      2555.00        1    2555.00   \n",
       "\n",
       "            mcc_group  att_sum_avg        age report_date  ...  \\\n",
       "0  FINANCIAL SERVICES   200000.000  43.954301  2019-11-01  ...   \n",
       "1                AUTO     8155.845  43.954301  2019-11-01  ...   \n",
       "2    MEDICAL SERVICES    42400.000  43.954301  2019-11-01  ...   \n",
       "3     REPAIR SERVICES     8997.500  43.954301  2019-11-01  ...   \n",
       "4     NON FOOD RETAIL     2555.000  43.954301  2019-11-01  ...   \n",
       "\n",
       "   bank_count_first_12m_1  bank_count_first_12m_30  bank_count_first_12m_60  \\\n",
       "0                     NaN                      NaN                      NaN   \n",
       "1                     NaN                      NaN                      NaN   \n",
       "2                     NaN                      NaN                      NaN   \n",
       "3                     NaN                      NaN                      NaN   \n",
       "4                     NaN                      NaN                      NaN   \n",
       "\n",
       "   bank_count_first_12m_90  first_payment_default  second_payment_default  \\\n",
       "0                      NaN                    NaN                     NaN   \n",
       "1                      NaN                    NaN                     NaN   \n",
       "2                      NaN                    NaN                     NaN   \n",
       "3                      NaN                    NaN                     NaN   \n",
       "4                      NaN                    NaN                     NaN   \n",
       "\n",
       "   cnt_adv_repayment  cnt_adv_repayment_gr_500k  mrtg_open  cnt_opened  \n",
       "0                NaN                        NaN        NaN         NaN  \n",
       "1                NaN                        NaN        NaN         NaN  \n",
       "2                NaN                        NaN        NaN         NaN  \n",
       "3                NaN                        NaN        NaN         NaN  \n",
       "4                NaN                        NaN        NaN         NaN  \n",
       "\n",
       "[5 rows x 114 columns]"
      ]
     },
     "execution_count": 17,
     "metadata": {},
     "output_type": "execute_result"
    }
   ],
   "source": [
    "#оставляем только такие атрибуты\n",
    "df1 = df[cols.index]\n",
    "df1.head()"
   ]
  },
  {
   "cell_type": "code",
   "execution_count": 18,
   "metadata": {
    "id": "9BhyizbFUj3U"
   },
   "outputs": [],
   "source": [
    "#Удаляем все строчки, где есть хотя бы одно значение Na\n",
    "df2 = df1.dropna(how = 'any', inplace = False)"
   ]
  },
  {
   "cell_type": "code",
   "execution_count": 19,
   "metadata": {
    "colab": {
     "base_uri": "https://localhost:8080/"
    },
    "id": "GRv6F_ikrbND",
    "outputId": "311cfad3-8b28-4203-e508-bd688b99e129"
   },
   "outputs": [
    {
     "data": {
      "text/plain": [
       "0    114\n",
       "dtype: int64"
      ]
     },
     "execution_count": 19,
     "metadata": {},
     "output_type": "execute_result"
    }
   ],
   "source": [
    "#Проверяем остались ли пропущенные значения\n",
    "df2.isna().sum().value_counts()"
   ]
  },
  {
   "cell_type": "code",
   "execution_count": 20,
   "metadata": {
    "colab": {
     "base_uri": "https://localhost:8080/",
     "height": 423
    },
    "id": "6chit6VkepuL",
    "outputId": "ae113c45-eb98-437c-e286-0032bcb2f25b"
   },
   "outputs": [
    {
     "name": "stdout",
     "output_type": "stream",
     "text": [
      "(313259, 114)\n"
     ]
    },
    {
     "data": {
      "text/html": [
       "<div>\n",
       "<style scoped>\n",
       "    .dataframe tbody tr th:only-of-type {\n",
       "        vertical-align: middle;\n",
       "    }\n",
       "\n",
       "    .dataframe tbody tr th {\n",
       "        vertical-align: top;\n",
       "    }\n",
       "\n",
       "    .dataframe thead th {\n",
       "        text-align: right;\n",
       "    }\n",
       "</style>\n",
       "<table border=\"1\" class=\"dataframe\">\n",
       "  <thead>\n",
       "    <tr style=\"text-align: right;\">\n",
       "      <th></th>\n",
       "      <th>client_id</th>\n",
       "      <th>last_day_month</th>\n",
       "      <th>att_sum_max</th>\n",
       "      <th>att_sum_min</th>\n",
       "      <th>att_cnt</th>\n",
       "      <th>att_sum</th>\n",
       "      <th>mcc_group</th>\n",
       "      <th>att_sum_avg</th>\n",
       "      <th>age</th>\n",
       "      <th>report_date</th>\n",
       "      <th>...</th>\n",
       "      <th>bank_count_first_12m_1</th>\n",
       "      <th>bank_count_first_12m_30</th>\n",
       "      <th>bank_count_first_12m_60</th>\n",
       "      <th>bank_count_first_12m_90</th>\n",
       "      <th>first_payment_default</th>\n",
       "      <th>second_payment_default</th>\n",
       "      <th>cnt_adv_repayment</th>\n",
       "      <th>cnt_adv_repayment_gr_500k</th>\n",
       "      <th>mrtg_open</th>\n",
       "      <th>cnt_opened</th>\n",
       "    </tr>\n",
       "  </thead>\n",
       "  <tbody>\n",
       "    <tr>\n",
       "      <th>6</th>\n",
       "      <td>8008</td>\n",
       "      <td>2019-11-30</td>\n",
       "      <td>132.0</td>\n",
       "      <td>132.0</td>\n",
       "      <td>2</td>\n",
       "      <td>264.00</td>\n",
       "      <td>AUTO</td>\n",
       "      <td>132.000000</td>\n",
       "      <td>39.892473</td>\n",
       "      <td>2019-11-01</td>\n",
       "      <td>...</td>\n",
       "      <td>0.0</td>\n",
       "      <td>0.0</td>\n",
       "      <td>0.0</td>\n",
       "      <td>0.0</td>\n",
       "      <td>0.0</td>\n",
       "      <td>0.0</td>\n",
       "      <td>2.0</td>\n",
       "      <td>0.0</td>\n",
       "      <td>0.0</td>\n",
       "      <td>0.0</td>\n",
       "    </tr>\n",
       "    <tr>\n",
       "      <th>7</th>\n",
       "      <td>8008</td>\n",
       "      <td>2019-11-30</td>\n",
       "      <td>514.0</td>\n",
       "      <td>17.0</td>\n",
       "      <td>18</td>\n",
       "      <td>3006.00</td>\n",
       "      <td>NON FOOD RETAIL</td>\n",
       "      <td>167.000000</td>\n",
       "      <td>39.892473</td>\n",
       "      <td>2019-11-01</td>\n",
       "      <td>...</td>\n",
       "      <td>0.0</td>\n",
       "      <td>0.0</td>\n",
       "      <td>0.0</td>\n",
       "      <td>0.0</td>\n",
       "      <td>0.0</td>\n",
       "      <td>0.0</td>\n",
       "      <td>2.0</td>\n",
       "      <td>0.0</td>\n",
       "      <td>0.0</td>\n",
       "      <td>0.0</td>\n",
       "    </tr>\n",
       "    <tr>\n",
       "      <th>8</th>\n",
       "      <td>8008</td>\n",
       "      <td>2019-11-30</td>\n",
       "      <td>649.0</td>\n",
       "      <td>649.0</td>\n",
       "      <td>1</td>\n",
       "      <td>649.00</td>\n",
       "      <td>PUBLIC SERVICE</td>\n",
       "      <td>649.000000</td>\n",
       "      <td>39.892473</td>\n",
       "      <td>2019-11-01</td>\n",
       "      <td>...</td>\n",
       "      <td>0.0</td>\n",
       "      <td>0.0</td>\n",
       "      <td>0.0</td>\n",
       "      <td>0.0</td>\n",
       "      <td>0.0</td>\n",
       "      <td>0.0</td>\n",
       "      <td>2.0</td>\n",
       "      <td>0.0</td>\n",
       "      <td>0.0</td>\n",
       "      <td>0.0</td>\n",
       "    </tr>\n",
       "    <tr>\n",
       "      <th>9</th>\n",
       "      <td>8008</td>\n",
       "      <td>2019-11-30</td>\n",
       "      <td>10000.0</td>\n",
       "      <td>7000.0</td>\n",
       "      <td>2</td>\n",
       "      <td>17000.00</td>\n",
       "      <td>FINANCIAL SERVICES</td>\n",
       "      <td>8500.000000</td>\n",
       "      <td>39.892473</td>\n",
       "      <td>2019-11-01</td>\n",
       "      <td>...</td>\n",
       "      <td>0.0</td>\n",
       "      <td>0.0</td>\n",
       "      <td>0.0</td>\n",
       "      <td>0.0</td>\n",
       "      <td>0.0</td>\n",
       "      <td>0.0</td>\n",
       "      <td>2.0</td>\n",
       "      <td>0.0</td>\n",
       "      <td>0.0</td>\n",
       "      <td>0.0</td>\n",
       "    </tr>\n",
       "    <tr>\n",
       "      <th>10</th>\n",
       "      <td>8008</td>\n",
       "      <td>2019-11-30</td>\n",
       "      <td>3631.0</td>\n",
       "      <td>40.0</td>\n",
       "      <td>34</td>\n",
       "      <td>10657.15</td>\n",
       "      <td>RETAIL STORES</td>\n",
       "      <td>313.445588</td>\n",
       "      <td>39.892473</td>\n",
       "      <td>2019-11-01</td>\n",
       "      <td>...</td>\n",
       "      <td>0.0</td>\n",
       "      <td>0.0</td>\n",
       "      <td>0.0</td>\n",
       "      <td>0.0</td>\n",
       "      <td>0.0</td>\n",
       "      <td>0.0</td>\n",
       "      <td>2.0</td>\n",
       "      <td>0.0</td>\n",
       "      <td>0.0</td>\n",
       "      <td>0.0</td>\n",
       "    </tr>\n",
       "  </tbody>\n",
       "</table>\n",
       "<p>5 rows × 114 columns</p>\n",
       "</div>"
      ],
      "text/plain": [
       "    client_id last_day_month  att_sum_max  att_sum_min  att_cnt   att_sum  \\\n",
       "6        8008     2019-11-30        132.0        132.0        2    264.00   \n",
       "7        8008     2019-11-30        514.0         17.0       18   3006.00   \n",
       "8        8008     2019-11-30        649.0        649.0        1    649.00   \n",
       "9        8008     2019-11-30      10000.0       7000.0        2  17000.00   \n",
       "10       8008     2019-11-30       3631.0         40.0       34  10657.15   \n",
       "\n",
       "             mcc_group  att_sum_avg        age report_date  ...  \\\n",
       "6                 AUTO   132.000000  39.892473  2019-11-01  ...   \n",
       "7      NON FOOD RETAIL   167.000000  39.892473  2019-11-01  ...   \n",
       "8       PUBLIC SERVICE   649.000000  39.892473  2019-11-01  ...   \n",
       "9   FINANCIAL SERVICES  8500.000000  39.892473  2019-11-01  ...   \n",
       "10       RETAIL STORES   313.445588  39.892473  2019-11-01  ...   \n",
       "\n",
       "    bank_count_first_12m_1  bank_count_first_12m_30  bank_count_first_12m_60  \\\n",
       "6                      0.0                      0.0                      0.0   \n",
       "7                      0.0                      0.0                      0.0   \n",
       "8                      0.0                      0.0                      0.0   \n",
       "9                      0.0                      0.0                      0.0   \n",
       "10                     0.0                      0.0                      0.0   \n",
       "\n",
       "    bank_count_first_12m_90  first_payment_default  second_payment_default  \\\n",
       "6                       0.0                    0.0                     0.0   \n",
       "7                       0.0                    0.0                     0.0   \n",
       "8                       0.0                    0.0                     0.0   \n",
       "9                       0.0                    0.0                     0.0   \n",
       "10                      0.0                    0.0                     0.0   \n",
       "\n",
       "    cnt_adv_repayment  cnt_adv_repayment_gr_500k  mrtg_open  cnt_opened  \n",
       "6                 2.0                        0.0        0.0         0.0  \n",
       "7                 2.0                        0.0        0.0         0.0  \n",
       "8                 2.0                        0.0        0.0         0.0  \n",
       "9                 2.0                        0.0        0.0         0.0  \n",
       "10                2.0                        0.0        0.0         0.0  \n",
       "\n",
       "[5 rows x 114 columns]"
      ]
     },
     "execution_count": 20,
     "metadata": {},
     "output_type": "execute_result"
    }
   ],
   "source": [
    "print(df2.shape)\n",
    "df2.head()"
   ]
  },
  {
   "cell_type": "code",
   "execution_count": 21,
   "metadata": {
    "colab": {
     "base_uri": "https://localhost:8080/"
    },
    "id": "St885OG0lGFL",
    "outputId": "6bab0d4e-4427-471e-8b75-53d35a5a4e40"
   },
   "outputs": [
    {
     "data": {
      "text/plain": [
       "{dtype('int64'), dtype('float64'), dtype('<M8[ns]'), dtype('O')}"
      ]
     },
     "execution_count": 21,
     "metadata": {},
     "output_type": "execute_result"
    }
   ],
   "source": [
    "# смотрим на типы атрибутов\n",
    "set(df2.dtypes.to_list())"
   ]
  },
  {
   "cell_type": "code",
   "execution_count": 22,
   "metadata": {
    "id": "pHFdqlZqk83S"
   },
   "outputs": [],
   "source": [
    "obj_col = df2.select_dtypes('O').columns.to_list()                   # object\n",
    "date_col= df2.select_dtypes('<M8[ns]').columns.to_list()             # даты\n",
    "num_col = df2.select_dtypes(['int64', 'float64']).columns.to_list()  # числовые"
   ]
  },
  {
   "cell_type": "code",
   "execution_count": 23,
   "metadata": {
    "colab": {
     "base_uri": "https://localhost:8080/",
     "height": 204
    },
    "id": "vZ6mmN3nkmLK",
    "outputId": "790397d9-c0dd-468b-8537-de7275635806"
   },
   "outputs": [
    {
     "data": {
      "text/html": [
       "<div>\n",
       "<style scoped>\n",
       "    .dataframe tbody tr th:only-of-type {\n",
       "        vertical-align: middle;\n",
       "    }\n",
       "\n",
       "    .dataframe tbody tr th {\n",
       "        vertical-align: top;\n",
       "    }\n",
       "\n",
       "    .dataframe thead th {\n",
       "        text-align: right;\n",
       "    }\n",
       "</style>\n",
       "<table border=\"1\" class=\"dataframe\">\n",
       "  <thead>\n",
       "    <tr style=\"text-align: right;\">\n",
       "      <th></th>\n",
       "      <th>last_day_month</th>\n",
       "      <th>report_date</th>\n",
       "    </tr>\n",
       "  </thead>\n",
       "  <tbody>\n",
       "    <tr>\n",
       "      <th>6</th>\n",
       "      <td>2019-11-30</td>\n",
       "      <td>2019-11-01</td>\n",
       "    </tr>\n",
       "    <tr>\n",
       "      <th>7</th>\n",
       "      <td>2019-11-30</td>\n",
       "      <td>2019-11-01</td>\n",
       "    </tr>\n",
       "    <tr>\n",
       "      <th>8</th>\n",
       "      <td>2019-11-30</td>\n",
       "      <td>2019-11-01</td>\n",
       "    </tr>\n",
       "    <tr>\n",
       "      <th>9</th>\n",
       "      <td>2019-11-30</td>\n",
       "      <td>2019-11-01</td>\n",
       "    </tr>\n",
       "    <tr>\n",
       "      <th>10</th>\n",
       "      <td>2019-11-30</td>\n",
       "      <td>2019-11-01</td>\n",
       "    </tr>\n",
       "  </tbody>\n",
       "</table>\n",
       "</div>"
      ],
      "text/plain": [
       "   last_day_month report_date\n",
       "6      2019-11-30  2019-11-01\n",
       "7      2019-11-30  2019-11-01\n",
       "8      2019-11-30  2019-11-01\n",
       "9      2019-11-30  2019-11-01\n",
       "10     2019-11-30  2019-11-01"
      ]
     },
     "execution_count": 23,
     "metadata": {},
     "output_type": "execute_result"
    }
   ],
   "source": [
    "df2[date_col].head()"
   ]
  },
  {
   "cell_type": "markdown",
   "metadata": {
    "id": "jsh9siPRlo4Z"
   },
   "source": [
    "## id клиента и отчетная дата никак не влияют на то, заинтересован ли клиент в потребительских кредитах, поэтому удалим эти атрибуты"
   ]
  },
  {
   "cell_type": "code",
   "execution_count": 24,
   "metadata": {
    "colab": {
     "base_uri": "https://localhost:8080/"
    },
    "id": "80vvEJHOoo1T",
    "outputId": "fb9ee728-dd2e-4c4c-c79d-5a1ed7006275"
   },
   "outputs": [
    {
     "data": {
      "text/plain": [
       "['last_day_month', 'report_date', 'client_id']"
      ]
     },
     "execution_count": 24,
     "metadata": {},
     "output_type": "execute_result"
    }
   ],
   "source": [
    "date_and_id=date_col\n",
    "date_and_id.append(\"client_id\")\n",
    "date_and_id"
   ]
  },
  {
   "cell_type": "code",
   "execution_count": 25,
   "metadata": {
    "colab": {
     "base_uri": "https://localhost:8080/",
     "height": 423
    },
    "id": "4wXpXwfKlrT7",
    "outputId": "119bb2c7-f387-4c6c-a808-f00eb6e8219b"
   },
   "outputs": [
    {
     "data": {
      "text/html": [
       "<div>\n",
       "<style scoped>\n",
       "    .dataframe tbody tr th:only-of-type {\n",
       "        vertical-align: middle;\n",
       "    }\n",
       "\n",
       "    .dataframe tbody tr th {\n",
       "        vertical-align: top;\n",
       "    }\n",
       "\n",
       "    .dataframe thead th {\n",
       "        text-align: right;\n",
       "    }\n",
       "</style>\n",
       "<table border=\"1\" class=\"dataframe\">\n",
       "  <thead>\n",
       "    <tr style=\"text-align: right;\">\n",
       "      <th></th>\n",
       "      <th>att_sum_max</th>\n",
       "      <th>att_sum_min</th>\n",
       "      <th>att_cnt</th>\n",
       "      <th>att_sum</th>\n",
       "      <th>mcc_group</th>\n",
       "      <th>att_sum_avg</th>\n",
       "      <th>age</th>\n",
       "      <th>y</th>\n",
       "      <th>extra_card_ind</th>\n",
       "      <th>num_prem_cards</th>\n",
       "      <th>...</th>\n",
       "      <th>bank_count_first_12m_1</th>\n",
       "      <th>bank_count_first_12m_30</th>\n",
       "      <th>bank_count_first_12m_60</th>\n",
       "      <th>bank_count_first_12m_90</th>\n",
       "      <th>first_payment_default</th>\n",
       "      <th>second_payment_default</th>\n",
       "      <th>cnt_adv_repayment</th>\n",
       "      <th>cnt_adv_repayment_gr_500k</th>\n",
       "      <th>mrtg_open</th>\n",
       "      <th>cnt_opened</th>\n",
       "    </tr>\n",
       "  </thead>\n",
       "  <tbody>\n",
       "    <tr>\n",
       "      <th>6</th>\n",
       "      <td>132.0</td>\n",
       "      <td>132.0</td>\n",
       "      <td>2</td>\n",
       "      <td>264.00</td>\n",
       "      <td>AUTO</td>\n",
       "      <td>132.000000</td>\n",
       "      <td>39.892473</td>\n",
       "      <td>0.0</td>\n",
       "      <td>1.0</td>\n",
       "      <td>1.0</td>\n",
       "      <td>...</td>\n",
       "      <td>0.0</td>\n",
       "      <td>0.0</td>\n",
       "      <td>0.0</td>\n",
       "      <td>0.0</td>\n",
       "      <td>0.0</td>\n",
       "      <td>0.0</td>\n",
       "      <td>2.0</td>\n",
       "      <td>0.0</td>\n",
       "      <td>0.0</td>\n",
       "      <td>0.0</td>\n",
       "    </tr>\n",
       "    <tr>\n",
       "      <th>7</th>\n",
       "      <td>514.0</td>\n",
       "      <td>17.0</td>\n",
       "      <td>18</td>\n",
       "      <td>3006.00</td>\n",
       "      <td>NON FOOD RETAIL</td>\n",
       "      <td>167.000000</td>\n",
       "      <td>39.892473</td>\n",
       "      <td>0.0</td>\n",
       "      <td>1.0</td>\n",
       "      <td>1.0</td>\n",
       "      <td>...</td>\n",
       "      <td>0.0</td>\n",
       "      <td>0.0</td>\n",
       "      <td>0.0</td>\n",
       "      <td>0.0</td>\n",
       "      <td>0.0</td>\n",
       "      <td>0.0</td>\n",
       "      <td>2.0</td>\n",
       "      <td>0.0</td>\n",
       "      <td>0.0</td>\n",
       "      <td>0.0</td>\n",
       "    </tr>\n",
       "    <tr>\n",
       "      <th>8</th>\n",
       "      <td>649.0</td>\n",
       "      <td>649.0</td>\n",
       "      <td>1</td>\n",
       "      <td>649.00</td>\n",
       "      <td>PUBLIC SERVICE</td>\n",
       "      <td>649.000000</td>\n",
       "      <td>39.892473</td>\n",
       "      <td>0.0</td>\n",
       "      <td>1.0</td>\n",
       "      <td>1.0</td>\n",
       "      <td>...</td>\n",
       "      <td>0.0</td>\n",
       "      <td>0.0</td>\n",
       "      <td>0.0</td>\n",
       "      <td>0.0</td>\n",
       "      <td>0.0</td>\n",
       "      <td>0.0</td>\n",
       "      <td>2.0</td>\n",
       "      <td>0.0</td>\n",
       "      <td>0.0</td>\n",
       "      <td>0.0</td>\n",
       "    </tr>\n",
       "    <tr>\n",
       "      <th>9</th>\n",
       "      <td>10000.0</td>\n",
       "      <td>7000.0</td>\n",
       "      <td>2</td>\n",
       "      <td>17000.00</td>\n",
       "      <td>FINANCIAL SERVICES</td>\n",
       "      <td>8500.000000</td>\n",
       "      <td>39.892473</td>\n",
       "      <td>0.0</td>\n",
       "      <td>1.0</td>\n",
       "      <td>1.0</td>\n",
       "      <td>...</td>\n",
       "      <td>0.0</td>\n",
       "      <td>0.0</td>\n",
       "      <td>0.0</td>\n",
       "      <td>0.0</td>\n",
       "      <td>0.0</td>\n",
       "      <td>0.0</td>\n",
       "      <td>2.0</td>\n",
       "      <td>0.0</td>\n",
       "      <td>0.0</td>\n",
       "      <td>0.0</td>\n",
       "    </tr>\n",
       "    <tr>\n",
       "      <th>10</th>\n",
       "      <td>3631.0</td>\n",
       "      <td>40.0</td>\n",
       "      <td>34</td>\n",
       "      <td>10657.15</td>\n",
       "      <td>RETAIL STORES</td>\n",
       "      <td>313.445588</td>\n",
       "      <td>39.892473</td>\n",
       "      <td>0.0</td>\n",
       "      <td>1.0</td>\n",
       "      <td>1.0</td>\n",
       "      <td>...</td>\n",
       "      <td>0.0</td>\n",
       "      <td>0.0</td>\n",
       "      <td>0.0</td>\n",
       "      <td>0.0</td>\n",
       "      <td>0.0</td>\n",
       "      <td>0.0</td>\n",
       "      <td>2.0</td>\n",
       "      <td>0.0</td>\n",
       "      <td>0.0</td>\n",
       "      <td>0.0</td>\n",
       "    </tr>\n",
       "  </tbody>\n",
       "</table>\n",
       "<p>5 rows × 111 columns</p>\n",
       "</div>"
      ],
      "text/plain": [
       "    att_sum_max  att_sum_min  att_cnt   att_sum           mcc_group  \\\n",
       "6         132.0        132.0        2    264.00                AUTO   \n",
       "7         514.0         17.0       18   3006.00     NON FOOD RETAIL   \n",
       "8         649.0        649.0        1    649.00      PUBLIC SERVICE   \n",
       "9       10000.0       7000.0        2  17000.00  FINANCIAL SERVICES   \n",
       "10       3631.0         40.0       34  10657.15       RETAIL STORES   \n",
       "\n",
       "    att_sum_avg        age    y  extra_card_ind  num_prem_cards  ...  \\\n",
       "6    132.000000  39.892473  0.0             1.0             1.0  ...   \n",
       "7    167.000000  39.892473  0.0             1.0             1.0  ...   \n",
       "8    649.000000  39.892473  0.0             1.0             1.0  ...   \n",
       "9   8500.000000  39.892473  0.0             1.0             1.0  ...   \n",
       "10   313.445588  39.892473  0.0             1.0             1.0  ...   \n",
       "\n",
       "    bank_count_first_12m_1  bank_count_first_12m_30  bank_count_first_12m_60  \\\n",
       "6                      0.0                      0.0                      0.0   \n",
       "7                      0.0                      0.0                      0.0   \n",
       "8                      0.0                      0.0                      0.0   \n",
       "9                      0.0                      0.0                      0.0   \n",
       "10                     0.0                      0.0                      0.0   \n",
       "\n",
       "    bank_count_first_12m_90  first_payment_default  second_payment_default  \\\n",
       "6                       0.0                    0.0                     0.0   \n",
       "7                       0.0                    0.0                     0.0   \n",
       "8                       0.0                    0.0                     0.0   \n",
       "9                       0.0                    0.0                     0.0   \n",
       "10                      0.0                    0.0                     0.0   \n",
       "\n",
       "    cnt_adv_repayment  cnt_adv_repayment_gr_500k  mrtg_open  cnt_opened  \n",
       "6                 2.0                        0.0        0.0         0.0  \n",
       "7                 2.0                        0.0        0.0         0.0  \n",
       "8                 2.0                        0.0        0.0         0.0  \n",
       "9                 2.0                        0.0        0.0         0.0  \n",
       "10                2.0                        0.0        0.0         0.0  \n",
       "\n",
       "[5 rows x 111 columns]"
      ]
     },
     "execution_count": 25,
     "metadata": {},
     "output_type": "execute_result"
    }
   ],
   "source": [
    "df2.drop(date_and_id,axis=1,inplace=True)\n",
    "df2.head()"
   ]
  },
  {
   "cell_type": "markdown",
   "metadata": {
    "id": "0pCfE1wvfj4V"
   },
   "source": [
    "## Нормализуем числовые атрибуты\n",
    "## Используем Normalizer, потому что в дальнейшем используем One Hot Encoding"
   ]
  },
  {
   "cell_type": "code",
   "execution_count": 26,
   "metadata": {
    "colab": {
     "base_uri": "https://localhost:8080/",
     "height": 423
    },
    "id": "bOYm6dCdpyvq",
    "outputId": "e5c6c7be-4e4c-45b9-d220-a3f4e7fc6670"
   },
   "outputs": [
    {
     "data": {
      "text/html": [
       "<div>\n",
       "<style scoped>\n",
       "    .dataframe tbody tr th:only-of-type {\n",
       "        vertical-align: middle;\n",
       "    }\n",
       "\n",
       "    .dataframe tbody tr th {\n",
       "        vertical-align: top;\n",
       "    }\n",
       "\n",
       "    .dataframe thead th {\n",
       "        text-align: right;\n",
       "    }\n",
       "</style>\n",
       "<table border=\"1\" class=\"dataframe\">\n",
       "  <thead>\n",
       "    <tr style=\"text-align: right;\">\n",
       "      <th></th>\n",
       "      <th>att_sum_max</th>\n",
       "      <th>att_sum_min</th>\n",
       "      <th>att_cnt</th>\n",
       "      <th>att_sum</th>\n",
       "      <th>mcc_group</th>\n",
       "      <th>att_sum_avg</th>\n",
       "      <th>age</th>\n",
       "      <th>extra_card_ind</th>\n",
       "      <th>num_prem_cards</th>\n",
       "      <th>num_debit_cards</th>\n",
       "      <th>...</th>\n",
       "      <th>bank_count_first_12m_1</th>\n",
       "      <th>bank_count_first_12m_30</th>\n",
       "      <th>bank_count_first_12m_60</th>\n",
       "      <th>bank_count_first_12m_90</th>\n",
       "      <th>first_payment_default</th>\n",
       "      <th>second_payment_default</th>\n",
       "      <th>cnt_adv_repayment</th>\n",
       "      <th>cnt_adv_repayment_gr_500k</th>\n",
       "      <th>mrtg_open</th>\n",
       "      <th>cnt_opened</th>\n",
       "    </tr>\n",
       "  </thead>\n",
       "  <tbody>\n",
       "    <tr>\n",
       "      <th>6</th>\n",
       "      <td>0.000633</td>\n",
       "      <td>0.000633</td>\n",
       "      <td>0.000010</td>\n",
       "      <td>0.001267</td>\n",
       "      <td>AUTO</td>\n",
       "      <td>0.000633</td>\n",
       "      <td>0.000191</td>\n",
       "      <td>0.000005</td>\n",
       "      <td>0.000005</td>\n",
       "      <td>0.00001</td>\n",
       "      <td>...</td>\n",
       "      <td>0.0</td>\n",
       "      <td>0.0</td>\n",
       "      <td>0.0</td>\n",
       "      <td>0.0</td>\n",
       "      <td>0.0</td>\n",
       "      <td>0.0</td>\n",
       "      <td>0.00001</td>\n",
       "      <td>0.0</td>\n",
       "      <td>0.0</td>\n",
       "      <td>0.0</td>\n",
       "    </tr>\n",
       "    <tr>\n",
       "      <th>7</th>\n",
       "      <td>0.002467</td>\n",
       "      <td>0.000082</td>\n",
       "      <td>0.000086</td>\n",
       "      <td>0.014425</td>\n",
       "      <td>NON FOOD RETAIL</td>\n",
       "      <td>0.000801</td>\n",
       "      <td>0.000191</td>\n",
       "      <td>0.000005</td>\n",
       "      <td>0.000005</td>\n",
       "      <td>0.00001</td>\n",
       "      <td>...</td>\n",
       "      <td>0.0</td>\n",
       "      <td>0.0</td>\n",
       "      <td>0.0</td>\n",
       "      <td>0.0</td>\n",
       "      <td>0.0</td>\n",
       "      <td>0.0</td>\n",
       "      <td>0.00001</td>\n",
       "      <td>0.0</td>\n",
       "      <td>0.0</td>\n",
       "      <td>0.0</td>\n",
       "    </tr>\n",
       "    <tr>\n",
       "      <th>8</th>\n",
       "      <td>0.003115</td>\n",
       "      <td>0.003115</td>\n",
       "      <td>0.000005</td>\n",
       "      <td>0.003115</td>\n",
       "      <td>PUBLIC SERVICE</td>\n",
       "      <td>0.003115</td>\n",
       "      <td>0.000191</td>\n",
       "      <td>0.000005</td>\n",
       "      <td>0.000005</td>\n",
       "      <td>0.00001</td>\n",
       "      <td>...</td>\n",
       "      <td>0.0</td>\n",
       "      <td>0.0</td>\n",
       "      <td>0.0</td>\n",
       "      <td>0.0</td>\n",
       "      <td>0.0</td>\n",
       "      <td>0.0</td>\n",
       "      <td>0.00001</td>\n",
       "      <td>0.0</td>\n",
       "      <td>0.0</td>\n",
       "      <td>0.0</td>\n",
       "    </tr>\n",
       "    <tr>\n",
       "      <th>9</th>\n",
       "      <td>0.047712</td>\n",
       "      <td>0.033399</td>\n",
       "      <td>0.000010</td>\n",
       "      <td>0.081111</td>\n",
       "      <td>FINANCIAL SERVICES</td>\n",
       "      <td>0.040555</td>\n",
       "      <td>0.000190</td>\n",
       "      <td>0.000005</td>\n",
       "      <td>0.000005</td>\n",
       "      <td>0.00001</td>\n",
       "      <td>...</td>\n",
       "      <td>0.0</td>\n",
       "      <td>0.0</td>\n",
       "      <td>0.0</td>\n",
       "      <td>0.0</td>\n",
       "      <td>0.0</td>\n",
       "      <td>0.0</td>\n",
       "      <td>0.00001</td>\n",
       "      <td>0.0</td>\n",
       "      <td>0.0</td>\n",
       "      <td>0.0</td>\n",
       "    </tr>\n",
       "    <tr>\n",
       "      <th>10</th>\n",
       "      <td>0.017400</td>\n",
       "      <td>0.000192</td>\n",
       "      <td>0.000163</td>\n",
       "      <td>0.051071</td>\n",
       "      <td>RETAIL STORES</td>\n",
       "      <td>0.001502</td>\n",
       "      <td>0.000191</td>\n",
       "      <td>0.000005</td>\n",
       "      <td>0.000005</td>\n",
       "      <td>0.00001</td>\n",
       "      <td>...</td>\n",
       "      <td>0.0</td>\n",
       "      <td>0.0</td>\n",
       "      <td>0.0</td>\n",
       "      <td>0.0</td>\n",
       "      <td>0.0</td>\n",
       "      <td>0.0</td>\n",
       "      <td>0.00001</td>\n",
       "      <td>0.0</td>\n",
       "      <td>0.0</td>\n",
       "      <td>0.0</td>\n",
       "    </tr>\n",
       "  </tbody>\n",
       "</table>\n",
       "<p>5 rows × 110 columns</p>\n",
       "</div>"
      ],
      "text/plain": [
       "    att_sum_max  att_sum_min   att_cnt   att_sum           mcc_group  \\\n",
       "6      0.000633     0.000633  0.000010  0.001267                AUTO   \n",
       "7      0.002467     0.000082  0.000086  0.014425     NON FOOD RETAIL   \n",
       "8      0.003115     0.003115  0.000005  0.003115      PUBLIC SERVICE   \n",
       "9      0.047712     0.033399  0.000010  0.081111  FINANCIAL SERVICES   \n",
       "10     0.017400     0.000192  0.000163  0.051071       RETAIL STORES   \n",
       "\n",
       "    att_sum_avg       age  extra_card_ind  num_prem_cards  num_debit_cards  \\\n",
       "6      0.000633  0.000191        0.000005        0.000005          0.00001   \n",
       "7      0.000801  0.000191        0.000005        0.000005          0.00001   \n",
       "8      0.003115  0.000191        0.000005        0.000005          0.00001   \n",
       "9      0.040555  0.000190        0.000005        0.000005          0.00001   \n",
       "10     0.001502  0.000191        0.000005        0.000005          0.00001   \n",
       "\n",
       "    ...  bank_count_first_12m_1  bank_count_first_12m_30  \\\n",
       "6   ...                     0.0                      0.0   \n",
       "7   ...                     0.0                      0.0   \n",
       "8   ...                     0.0                      0.0   \n",
       "9   ...                     0.0                      0.0   \n",
       "10  ...                     0.0                      0.0   \n",
       "\n",
       "    bank_count_first_12m_60  bank_count_first_12m_90  first_payment_default  \\\n",
       "6                       0.0                      0.0                    0.0   \n",
       "7                       0.0                      0.0                    0.0   \n",
       "8                       0.0                      0.0                    0.0   \n",
       "9                       0.0                      0.0                    0.0   \n",
       "10                      0.0                      0.0                    0.0   \n",
       "\n",
       "    second_payment_default  cnt_adv_repayment  cnt_adv_repayment_gr_500k  \\\n",
       "6                      0.0            0.00001                        0.0   \n",
       "7                      0.0            0.00001                        0.0   \n",
       "8                      0.0            0.00001                        0.0   \n",
       "9                      0.0            0.00001                        0.0   \n",
       "10                     0.0            0.00001                        0.0   \n",
       "\n",
       "    mrtg_open  cnt_opened  \n",
       "6         0.0         0.0  \n",
       "7         0.0         0.0  \n",
       "8         0.0         0.0  \n",
       "9         0.0         0.0  \n",
       "10        0.0         0.0  \n",
       "\n",
       "[5 rows x 110 columns]"
      ]
     },
     "execution_count": 26,
     "metadata": {},
     "output_type": "execute_result"
    }
   ],
   "source": [
    "y=df2[\"y\"]\n",
    "X=df2.drop(['y'],axis=1)\n",
    "num_col = X.select_dtypes(['int64', 'float64']).columns.to_list()\n",
    "\n",
    "normalizer=Normalizer()\n",
    "X[num_col]=normalizer.fit_transform(X[num_col])\n",
    "\n",
    "X.head()"
   ]
  },
  {
   "cell_type": "markdown",
   "metadata": {
    "id": "rN-cPQ2IENP5"
   },
   "source": [
    "## Обработаем категориальные признаки c помощью GetDummies()\n",
    "\n"
   ]
  },
  {
   "cell_type": "code",
   "execution_count": 27,
   "metadata": {
    "colab": {
     "base_uri": "https://localhost:8080/",
     "height": 677
    },
    "id": "RPIluw3LENP5",
    "outputId": "9d508ab0-83bc-49ff-b231-2c9757f1123e"
   },
   "outputs": [
    {
     "data": {
      "text/html": [
       "<div>\n",
       "<style scoped>\n",
       "    .dataframe tbody tr th:only-of-type {\n",
       "        vertical-align: middle;\n",
       "    }\n",
       "\n",
       "    .dataframe tbody tr th {\n",
       "        vertical-align: top;\n",
       "    }\n",
       "\n",
       "    .dataframe thead th {\n",
       "        text-align: right;\n",
       "    }\n",
       "</style>\n",
       "<table border=\"1\" class=\"dataframe\">\n",
       "  <thead>\n",
       "    <tr style=\"text-align: right;\">\n",
       "      <th></th>\n",
       "      <th>att_sum_max</th>\n",
       "      <th>att_sum_min</th>\n",
       "      <th>att_cnt</th>\n",
       "      <th>att_sum</th>\n",
       "      <th>att_sum_avg</th>\n",
       "      <th>age</th>\n",
       "      <th>extra_card_ind</th>\n",
       "      <th>num_prem_cards</th>\n",
       "      <th>num_debit_cards</th>\n",
       "      <th>num_credit_cards</th>\n",
       "      <th>...</th>\n",
       "      <th>app_employment_type_nm_Юриспруденция</th>\n",
       "      <th>app_employment_type_nm_административно-хозяйственная служба</th>\n",
       "      <th>app_employment_type_nm_бухгалтерия, финансы, планирование</th>\n",
       "      <th>app_employment_type_nm_кадровая служба, секретариат</th>\n",
       "      <th>app_employment_type_nm_основная деятельность организации/предпр</th>\n",
       "      <th>app_employment_type_nm_основная деятельность организации/предприятия</th>\n",
       "      <th>app_employment_type_nm_служба безопасности</th>\n",
       "      <th>app_employment_type_nm_телекоммуникации</th>\n",
       "      <th>app_employment_type_nm_технический персонал</th>\n",
       "      <th>app_employment_type_nm_юридическая служба</th>\n",
       "    </tr>\n",
       "  </thead>\n",
       "  <tbody>\n",
       "    <tr>\n",
       "      <th>6</th>\n",
       "      <td>0.000633</td>\n",
       "      <td>0.000633</td>\n",
       "      <td>0.000010</td>\n",
       "      <td>0.001267</td>\n",
       "      <td>0.000633</td>\n",
       "      <td>0.000191</td>\n",
       "      <td>0.000005</td>\n",
       "      <td>0.000005</td>\n",
       "      <td>0.00001</td>\n",
       "      <td>0.0</td>\n",
       "      <td>...</td>\n",
       "      <td>0</td>\n",
       "      <td>0</td>\n",
       "      <td>0</td>\n",
       "      <td>0</td>\n",
       "      <td>0</td>\n",
       "      <td>0</td>\n",
       "      <td>0</td>\n",
       "      <td>0</td>\n",
       "      <td>0</td>\n",
       "      <td>0</td>\n",
       "    </tr>\n",
       "    <tr>\n",
       "      <th>7</th>\n",
       "      <td>0.002467</td>\n",
       "      <td>0.000082</td>\n",
       "      <td>0.000086</td>\n",
       "      <td>0.014425</td>\n",
       "      <td>0.000801</td>\n",
       "      <td>0.000191</td>\n",
       "      <td>0.000005</td>\n",
       "      <td>0.000005</td>\n",
       "      <td>0.00001</td>\n",
       "      <td>0.0</td>\n",
       "      <td>...</td>\n",
       "      <td>0</td>\n",
       "      <td>0</td>\n",
       "      <td>0</td>\n",
       "      <td>0</td>\n",
       "      <td>0</td>\n",
       "      <td>0</td>\n",
       "      <td>0</td>\n",
       "      <td>0</td>\n",
       "      <td>0</td>\n",
       "      <td>0</td>\n",
       "    </tr>\n",
       "    <tr>\n",
       "      <th>8</th>\n",
       "      <td>0.003115</td>\n",
       "      <td>0.003115</td>\n",
       "      <td>0.000005</td>\n",
       "      <td>0.003115</td>\n",
       "      <td>0.003115</td>\n",
       "      <td>0.000191</td>\n",
       "      <td>0.000005</td>\n",
       "      <td>0.000005</td>\n",
       "      <td>0.00001</td>\n",
       "      <td>0.0</td>\n",
       "      <td>...</td>\n",
       "      <td>0</td>\n",
       "      <td>0</td>\n",
       "      <td>0</td>\n",
       "      <td>0</td>\n",
       "      <td>0</td>\n",
       "      <td>0</td>\n",
       "      <td>0</td>\n",
       "      <td>0</td>\n",
       "      <td>0</td>\n",
       "      <td>0</td>\n",
       "    </tr>\n",
       "    <tr>\n",
       "      <th>9</th>\n",
       "      <td>0.047712</td>\n",
       "      <td>0.033399</td>\n",
       "      <td>0.000010</td>\n",
       "      <td>0.081111</td>\n",
       "      <td>0.040555</td>\n",
       "      <td>0.000190</td>\n",
       "      <td>0.000005</td>\n",
       "      <td>0.000005</td>\n",
       "      <td>0.00001</td>\n",
       "      <td>0.0</td>\n",
       "      <td>...</td>\n",
       "      <td>0</td>\n",
       "      <td>0</td>\n",
       "      <td>0</td>\n",
       "      <td>0</td>\n",
       "      <td>0</td>\n",
       "      <td>0</td>\n",
       "      <td>0</td>\n",
       "      <td>0</td>\n",
       "      <td>0</td>\n",
       "      <td>0</td>\n",
       "    </tr>\n",
       "    <tr>\n",
       "      <th>10</th>\n",
       "      <td>0.017400</td>\n",
       "      <td>0.000192</td>\n",
       "      <td>0.000163</td>\n",
       "      <td>0.051071</td>\n",
       "      <td>0.001502</td>\n",
       "      <td>0.000191</td>\n",
       "      <td>0.000005</td>\n",
       "      <td>0.000005</td>\n",
       "      <td>0.00001</td>\n",
       "      <td>0.0</td>\n",
       "      <td>...</td>\n",
       "      <td>0</td>\n",
       "      <td>0</td>\n",
       "      <td>0</td>\n",
       "      <td>0</td>\n",
       "      <td>0</td>\n",
       "      <td>0</td>\n",
       "      <td>0</td>\n",
       "      <td>0</td>\n",
       "      <td>0</td>\n",
       "      <td>0</td>\n",
       "    </tr>\n",
       "  </tbody>\n",
       "</table>\n",
       "<p>5 rows × 170 columns</p>\n",
       "</div>"
      ],
      "text/plain": [
       "    att_sum_max  att_sum_min   att_cnt   att_sum  att_sum_avg       age  \\\n",
       "6      0.000633     0.000633  0.000010  0.001267     0.000633  0.000191   \n",
       "7      0.002467     0.000082  0.000086  0.014425     0.000801  0.000191   \n",
       "8      0.003115     0.003115  0.000005  0.003115     0.003115  0.000191   \n",
       "9      0.047712     0.033399  0.000010  0.081111     0.040555  0.000190   \n",
       "10     0.017400     0.000192  0.000163  0.051071     0.001502  0.000191   \n",
       "\n",
       "    extra_card_ind  num_prem_cards  num_debit_cards  num_credit_cards  ...  \\\n",
       "6         0.000005        0.000005          0.00001               0.0  ...   \n",
       "7         0.000005        0.000005          0.00001               0.0  ...   \n",
       "8         0.000005        0.000005          0.00001               0.0  ...   \n",
       "9         0.000005        0.000005          0.00001               0.0  ...   \n",
       "10        0.000005        0.000005          0.00001               0.0  ...   \n",
       "\n",
       "    app_employment_type_nm_Юриспруденция  \\\n",
       "6                                      0   \n",
       "7                                      0   \n",
       "8                                      0   \n",
       "9                                      0   \n",
       "10                                     0   \n",
       "\n",
       "    app_employment_type_nm_административно-хозяйственная служба  \\\n",
       "6                                                   0             \n",
       "7                                                   0             \n",
       "8                                                   0             \n",
       "9                                                   0             \n",
       "10                                                  0             \n",
       "\n",
       "    app_employment_type_nm_бухгалтерия, финансы, планирование  \\\n",
       "6                                                   0           \n",
       "7                                                   0           \n",
       "8                                                   0           \n",
       "9                                                   0           \n",
       "10                                                  0           \n",
       "\n",
       "    app_employment_type_nm_кадровая служба, секретариат  \\\n",
       "6                                                   0     \n",
       "7                                                   0     \n",
       "8                                                   0     \n",
       "9                                                   0     \n",
       "10                                                  0     \n",
       "\n",
       "    app_employment_type_nm_основная деятельность организации/предпр  \\\n",
       "6                                                   0                 \n",
       "7                                                   0                 \n",
       "8                                                   0                 \n",
       "9                                                   0                 \n",
       "10                                                  0                 \n",
       "\n",
       "    app_employment_type_nm_основная деятельность организации/предприятия  \\\n",
       "6                                                   0                      \n",
       "7                                                   0                      \n",
       "8                                                   0                      \n",
       "9                                                   0                      \n",
       "10                                                  0                      \n",
       "\n",
       "    app_employment_type_nm_служба безопасности  \\\n",
       "6                                            0   \n",
       "7                                            0   \n",
       "8                                            0   \n",
       "9                                            0   \n",
       "10                                           0   \n",
       "\n",
       "    app_employment_type_nm_телекоммуникации  \\\n",
       "6                                         0   \n",
       "7                                         0   \n",
       "8                                         0   \n",
       "9                                         0   \n",
       "10                                        0   \n",
       "\n",
       "    app_employment_type_nm_технический персонал  \\\n",
       "6                                             0   \n",
       "7                                             0   \n",
       "8                                             0   \n",
       "9                                             0   \n",
       "10                                            0   \n",
       "\n",
       "    app_employment_type_nm_юридическая служба  \n",
       "6                                           0  \n",
       "7                                           0  \n",
       "8                                           0  \n",
       "9                                           0  \n",
       "10                                          0  \n",
       "\n",
       "[5 rows x 170 columns]"
      ]
     },
     "execution_count": 27,
     "metadata": {},
     "output_type": "execute_result"
    }
   ],
   "source": [
    "X=pd.get_dummies(X)\n",
    "X.head()"
   ]
  },
  {
   "cell_type": "markdown",
   "metadata": {},
   "source": [
    "## Корреляционный анализ"
   ]
  },
  {
   "cell_type": "code",
   "execution_count": 28,
   "metadata": {
    "colab": {
     "base_uri": "https://localhost:8080/"
    },
    "id": "KQBllR8gSzXE",
    "outputId": "4b0a53ef-6249-423c-a736-69fe6b4ca832"
   },
   "outputs": [
    {
     "name": "stdout",
     "output_type": "stream",
     "text": [
      "Кол-во таких атрибутов: 18\n",
      "y :  1.0\n",
      "outstanding_open :  0.56113742370939\n",
      "outstanding :  0.5511097925332403\n",
      "total_liab_sum_bank_open_agr :  0.5485980833405151\n",
      "max_liab_sum_bank_open :  0.5194326229782631\n",
      "avg_liab_sum_total_open_agr :  0.47522461043745884\n",
      "total_liab_sum_bki_open_agr :  0.2490378232522848\n",
      "max_liab_sum_bki_open :  0.2300059397921952\n",
      "bank_ki_flg :  -0.15337945451580332\n",
      "first_opened :  -0.1534144981473842\n",
      "Еще  8\n"
     ]
    }
   ],
   "source": [
    "#атрибуты с корреляцией к целевому признаку более пороговой\n",
    "z = 0.15\n",
    "\n",
    "df3 = X.join(y)\n",
    "y_cor = df3.corr()['y']\n",
    "cor = y_cor[abs(y_cor) > z]\n",
    "sorted_cor = cor.sort_values(ascending = False)\n",
    "print(\"Кол-во таких атрибутов:\",len(cor))\n",
    "for i in range(10):\n",
    "    print(sorted_cor.index[i],': ',sorted_cor[i])\n",
    "print(\"Еще \",len(cor)-10)"
   ]
  },
  {
   "cell_type": "code",
   "execution_count": 29,
   "metadata": {
    "colab": {
     "base_uri": "https://localhost:8080/"
    },
    "id": "orM73TlqrVH7",
    "outputId": "eab31949-0a9a-4128-ddf3-990bb5412d44"
   },
   "outputs": [
    {
     "data": {
      "text/html": [
       "<div>\n",
       "<style scoped>\n",
       "    .dataframe tbody tr th:only-of-type {\n",
       "        vertical-align: middle;\n",
       "    }\n",
       "\n",
       "    .dataframe tbody tr th {\n",
       "        vertical-align: top;\n",
       "    }\n",
       "\n",
       "    .dataframe thead th {\n",
       "        text-align: right;\n",
       "    }\n",
       "</style>\n",
       "<table border=\"1\" class=\"dataframe\">\n",
       "  <thead>\n",
       "    <tr style=\"text-align: right;\">\n",
       "      <th></th>\n",
       "      <th>att_sum_max</th>\n",
       "      <th>att_sum_min</th>\n",
       "      <th>att_cnt</th>\n",
       "      <th>att_sum</th>\n",
       "      <th>att_sum_avg</th>\n",
       "      <th>age</th>\n",
       "      <th>first_opened</th>\n",
       "      <th>max_liab_sum_bank_open</th>\n",
       "      <th>avg_liab_sum_total_open_agr</th>\n",
       "      <th>total_liab_sum_bank_open_agr</th>\n",
       "      <th>avg_liab_sum_total_closed_agr</th>\n",
       "      <th>total_liab_sum_bki_open_agr</th>\n",
       "      <th>max_liab_sum_bki_open</th>\n",
       "      <th>outstanding_open</th>\n",
       "      <th>outstanding</th>\n",
       "      <th>cnt_liability_types</th>\n",
       "      <th>bank_ki_flg</th>\n",
       "      <th>y</th>\n",
       "    </tr>\n",
       "  </thead>\n",
       "  <tbody>\n",
       "    <tr>\n",
       "      <th>6</th>\n",
       "      <td>0.000633</td>\n",
       "      <td>0.000633</td>\n",
       "      <td>0.000010</td>\n",
       "      <td>0.001267</td>\n",
       "      <td>0.000633</td>\n",
       "      <td>0.000191</td>\n",
       "      <td>0.000070</td>\n",
       "      <td>0.0</td>\n",
       "      <td>0.0</td>\n",
       "      <td>0.0</td>\n",
       "      <td>0.241321</td>\n",
       "      <td>0.0</td>\n",
       "      <td>0.0</td>\n",
       "      <td>0.0</td>\n",
       "      <td>0.0</td>\n",
       "      <td>0.000005</td>\n",
       "      <td>0.0</td>\n",
       "      <td>0.0</td>\n",
       "    </tr>\n",
       "    <tr>\n",
       "      <th>7</th>\n",
       "      <td>0.002467</td>\n",
       "      <td>0.000082</td>\n",
       "      <td>0.000086</td>\n",
       "      <td>0.014425</td>\n",
       "      <td>0.000801</td>\n",
       "      <td>0.000191</td>\n",
       "      <td>0.000070</td>\n",
       "      <td>0.0</td>\n",
       "      <td>0.0</td>\n",
       "      <td>0.0</td>\n",
       "      <td>0.241296</td>\n",
       "      <td>0.0</td>\n",
       "      <td>0.0</td>\n",
       "      <td>0.0</td>\n",
       "      <td>0.0</td>\n",
       "      <td>0.000005</td>\n",
       "      <td>0.0</td>\n",
       "      <td>0.0</td>\n",
       "    </tr>\n",
       "    <tr>\n",
       "      <th>8</th>\n",
       "      <td>0.003115</td>\n",
       "      <td>0.003115</td>\n",
       "      <td>0.000005</td>\n",
       "      <td>0.003115</td>\n",
       "      <td>0.003115</td>\n",
       "      <td>0.000191</td>\n",
       "      <td>0.000070</td>\n",
       "      <td>0.0</td>\n",
       "      <td>0.0</td>\n",
       "      <td>0.0</td>\n",
       "      <td>0.241317</td>\n",
       "      <td>0.0</td>\n",
       "      <td>0.0</td>\n",
       "      <td>0.0</td>\n",
       "      <td>0.0</td>\n",
       "      <td>0.000005</td>\n",
       "      <td>0.0</td>\n",
       "      <td>0.0</td>\n",
       "    </tr>\n",
       "    <tr>\n",
       "      <th>9</th>\n",
       "      <td>0.047712</td>\n",
       "      <td>0.033399</td>\n",
       "      <td>0.000010</td>\n",
       "      <td>0.081111</td>\n",
       "      <td>0.040555</td>\n",
       "      <td>0.000190</td>\n",
       "      <td>0.000069</td>\n",
       "      <td>0.0</td>\n",
       "      <td>0.0</td>\n",
       "      <td>0.0</td>\n",
       "      <td>0.239916</td>\n",
       "      <td>0.0</td>\n",
       "      <td>0.0</td>\n",
       "      <td>0.0</td>\n",
       "      <td>0.0</td>\n",
       "      <td>0.000005</td>\n",
       "      <td>0.0</td>\n",
       "      <td>0.0</td>\n",
       "    </tr>\n",
       "    <tr>\n",
       "      <th>10</th>\n",
       "      <td>0.017400</td>\n",
       "      <td>0.000192</td>\n",
       "      <td>0.000163</td>\n",
       "      <td>0.051071</td>\n",
       "      <td>0.001502</td>\n",
       "      <td>0.000191</td>\n",
       "      <td>0.000070</td>\n",
       "      <td>0.0</td>\n",
       "      <td>0.0</td>\n",
       "      <td>0.0</td>\n",
       "      <td>0.240970</td>\n",
       "      <td>0.0</td>\n",
       "      <td>0.0</td>\n",
       "      <td>0.0</td>\n",
       "      <td>0.0</td>\n",
       "      <td>0.000005</td>\n",
       "      <td>0.0</td>\n",
       "      <td>0.0</td>\n",
       "    </tr>\n",
       "  </tbody>\n",
       "</table>\n",
       "</div>"
      ],
      "text/plain": [
       "    att_sum_max  att_sum_min   att_cnt   att_sum  att_sum_avg       age  \\\n",
       "6      0.000633     0.000633  0.000010  0.001267     0.000633  0.000191   \n",
       "7      0.002467     0.000082  0.000086  0.014425     0.000801  0.000191   \n",
       "8      0.003115     0.003115  0.000005  0.003115     0.003115  0.000191   \n",
       "9      0.047712     0.033399  0.000010  0.081111     0.040555  0.000190   \n",
       "10     0.017400     0.000192  0.000163  0.051071     0.001502  0.000191   \n",
       "\n",
       "    first_opened  max_liab_sum_bank_open  avg_liab_sum_total_open_agr  \\\n",
       "6       0.000070                     0.0                          0.0   \n",
       "7       0.000070                     0.0                          0.0   \n",
       "8       0.000070                     0.0                          0.0   \n",
       "9       0.000069                     0.0                          0.0   \n",
       "10      0.000070                     0.0                          0.0   \n",
       "\n",
       "    total_liab_sum_bank_open_agr  avg_liab_sum_total_closed_agr  \\\n",
       "6                            0.0                       0.241321   \n",
       "7                            0.0                       0.241296   \n",
       "8                            0.0                       0.241317   \n",
       "9                            0.0                       0.239916   \n",
       "10                           0.0                       0.240970   \n",
       "\n",
       "    total_liab_sum_bki_open_agr  max_liab_sum_bki_open  outstanding_open  \\\n",
       "6                           0.0                    0.0               0.0   \n",
       "7                           0.0                    0.0               0.0   \n",
       "8                           0.0                    0.0               0.0   \n",
       "9                           0.0                    0.0               0.0   \n",
       "10                          0.0                    0.0               0.0   \n",
       "\n",
       "    outstanding  cnt_liability_types  bank_ki_flg    y  \n",
       "6           0.0             0.000005          0.0  0.0  \n",
       "7           0.0             0.000005          0.0  0.0  \n",
       "8           0.0             0.000005          0.0  0.0  \n",
       "9           0.0             0.000005          0.0  0.0  \n",
       "10          0.0             0.000005          0.0  0.0  "
      ]
     },
     "execution_count": 29,
     "metadata": {},
     "output_type": "execute_result"
    }
   ],
   "source": [
    "#Оставим только атрибуты с корреляцией больше 0.15\n",
    "df4=df3[cor.index]\n",
    "df4.head()"
   ]
  },
  {
   "cell_type": "markdown",
   "metadata": {},
   "source": [
    "### Избавимся от коллинеарных признаков"
   ]
  },
  {
   "cell_type": "code",
   "execution_count": 30,
   "metadata": {
    "id": "ft6qGyYstPoL"
   },
   "outputs": [
    {
     "name": "stdout",
     "output_type": "stream",
     "text": [
      "10 features with a correlation magnitude greater than 0.70.\n",
      "\n"
     ]
    }
   ],
   "source": [
    "from feature_selector import FeatureSelector\n",
    "\n",
    "\n",
    "X=df4.drop(['y'],axis=1)\n",
    "fs = FeatureSelector(data = X, labels = X.columns)\n",
    "fs.identify_collinear(correlation_threshold = 0.7)"
   ]
  },
  {
   "cell_type": "markdown",
   "metadata": {},
   "source": [
    "### Тепловая карта для признаков, у которых есть корреляция больше пороговой"
   ]
  },
  {
   "cell_type": "code",
   "execution_count": 31,
   "metadata": {},
   "outputs": [
    {
     "data": {
      "image/png": "[encoded data removed]",
      "text/plain": [
       "<Figure size 720x576 with 2 Axes>"
      ]
     },
     "metadata": {
      "needs_background": "light"
     },
     "output_type": "display_data"
    }
   ],
   "source": [
    "fs.plot_collinear()"
   ]
  },
  {
   "cell_type": "markdown",
   "metadata": {},
   "source": [
    "### Один из пары коллинеарных признаков нужно удалить. В первой колонке удаляемый признак, во второй - признак, с которым сильно коррелируют признаки из первой колонки, в третьей - коэф корреляции"
   ]
  },
  {
   "cell_type": "code",
   "execution_count": 33,
   "metadata": {},
   "outputs": [
    {
     "name": "stdout",
     "output_type": "stream",
     "text": [
      "['att_sum_min', 'att_sum', 'att_sum_avg', 'first_opened', 'avg_liab_sum_total_open_agr', 'total_liab_sum_bank_open_agr', 'max_liab_sum_bki_open', 'outstanding', 'cnt_liability_types', 'bank_ki_flg']\n"
     ]
    },
    {
     "data": {
      "text/html": [
       "<div>\n",
       "<style scoped>\n",
       "    .dataframe tbody tr th:only-of-type {\n",
       "        vertical-align: middle;\n",
       "    }\n",
       "\n",
       "    .dataframe tbody tr th {\n",
       "        vertical-align: top;\n",
       "    }\n",
       "\n",
       "    .dataframe thead th {\n",
       "        text-align: right;\n",
       "    }\n",
       "</style>\n",
       "<table border=\"1\" class=\"dataframe\">\n",
       "  <thead>\n",
       "    <tr style=\"text-align: right;\">\n",
       "      <th></th>\n",
       "      <th>drop_feature</th>\n",
       "      <th>corr_feature</th>\n",
       "      <th>corr_value</th>\n",
       "    </tr>\n",
       "  </thead>\n",
       "  <tbody>\n",
       "    <tr>\n",
       "      <th>0</th>\n",
       "      <td>att_sum_min</td>\n",
       "      <td>att_sum_max</td>\n",
       "      <td>0.701046</td>\n",
       "    </tr>\n",
       "    <tr>\n",
       "      <th>1</th>\n",
       "      <td>att_sum</td>\n",
       "      <td>att_sum_max</td>\n",
       "      <td>0.835997</td>\n",
       "    </tr>\n",
       "    <tr>\n",
       "      <th>2</th>\n",
       "      <td>att_sum_avg</td>\n",
       "      <td>att_sum_max</td>\n",
       "      <td>0.892759</td>\n",
       "    </tr>\n",
       "    <tr>\n",
       "      <th>3</th>\n",
       "      <td>att_sum_avg</td>\n",
       "      <td>att_sum_min</td>\n",
       "      <td>0.930367</td>\n",
       "    </tr>\n",
       "    <tr>\n",
       "      <th>4</th>\n",
       "      <td>first_opened</td>\n",
       "      <td>age</td>\n",
       "      <td>0.867460</td>\n",
       "    </tr>\n",
       "    <tr>\n",
       "      <th>5</th>\n",
       "      <td>avg_liab_sum_total_open_agr</td>\n",
       "      <td>max_liab_sum_bank_open</td>\n",
       "      <td>0.783888</td>\n",
       "    </tr>\n",
       "    <tr>\n",
       "      <th>6</th>\n",
       "      <td>total_liab_sum_bank_open_agr</td>\n",
       "      <td>max_liab_sum_bank_open</td>\n",
       "      <td>0.947145</td>\n",
       "    </tr>\n",
       "    <tr>\n",
       "      <th>7</th>\n",
       "      <td>total_liab_sum_bank_open_agr</td>\n",
       "      <td>avg_liab_sum_total_open_agr</td>\n",
       "      <td>0.712689</td>\n",
       "    </tr>\n",
       "    <tr>\n",
       "      <th>8</th>\n",
       "      <td>max_liab_sum_bki_open</td>\n",
       "      <td>total_liab_sum_bki_open_agr</td>\n",
       "      <td>0.973090</td>\n",
       "    </tr>\n",
       "    <tr>\n",
       "      <th>9</th>\n",
       "      <td>outstanding</td>\n",
       "      <td>outstanding_open</td>\n",
       "      <td>0.982184</td>\n",
       "    </tr>\n",
       "    <tr>\n",
       "      <th>10</th>\n",
       "      <td>cnt_liability_types</td>\n",
       "      <td>age</td>\n",
       "      <td>0.951055</td>\n",
       "    </tr>\n",
       "    <tr>\n",
       "      <th>11</th>\n",
       "      <td>cnt_liability_types</td>\n",
       "      <td>first_opened</td>\n",
       "      <td>0.832095</td>\n",
       "    </tr>\n",
       "    <tr>\n",
       "      <th>12</th>\n",
       "      <td>bank_ki_flg</td>\n",
       "      <td>age</td>\n",
       "      <td>0.954898</td>\n",
       "    </tr>\n",
       "    <tr>\n",
       "      <th>13</th>\n",
       "      <td>bank_ki_flg</td>\n",
       "      <td>first_opened</td>\n",
       "      <td>0.828475</td>\n",
       "    </tr>\n",
       "    <tr>\n",
       "      <th>14</th>\n",
       "      <td>bank_ki_flg</td>\n",
       "      <td>cnt_liability_types</td>\n",
       "      <td>0.980160</td>\n",
       "    </tr>\n",
       "  </tbody>\n",
       "</table>\n",
       "</div>"
      ],
      "text/plain": [
       "                    drop_feature                 corr_feature  corr_value\n",
       "0                    att_sum_min                  att_sum_max    0.701046\n",
       "1                        att_sum                  att_sum_max    0.835997\n",
       "2                    att_sum_avg                  att_sum_max    0.892759\n",
       "3                    att_sum_avg                  att_sum_min    0.930367\n",
       "4                   first_opened                          age    0.867460\n",
       "5    avg_liab_sum_total_open_agr       max_liab_sum_bank_open    0.783888\n",
       "6   total_liab_sum_bank_open_agr       max_liab_sum_bank_open    0.947145\n",
       "7   total_liab_sum_bank_open_agr  avg_liab_sum_total_open_agr    0.712689\n",
       "8          max_liab_sum_bki_open  total_liab_sum_bki_open_agr    0.973090\n",
       "9                    outstanding             outstanding_open    0.982184\n",
       "10           cnt_liability_types                          age    0.951055\n",
       "11           cnt_liability_types                 first_opened    0.832095\n",
       "12                   bank_ki_flg                          age    0.954898\n",
       "13                   bank_ki_flg                 first_opened    0.828475\n",
       "14                   bank_ki_flg          cnt_liability_types    0.980160"
      ]
     },
     "execution_count": 33,
     "metadata": {},
     "output_type": "execute_result"
    }
   ],
   "source": [
    "collinear_features = fs.ops['collinear']\n",
    "print(collinear_features)\n",
    "fs.record_collinear"
   ]
  },
  {
   "cell_type": "code",
   "execution_count": 34,
   "metadata": {},
   "outputs": [
    {
     "name": "stdout",
     "output_type": "stream",
     "text": [
      "8\n"
     ]
    },
    {
     "data": {
      "text/plain": [
       "Index(['att_sum_max', 'att_cnt', 'age', 'max_liab_sum_bank_open',\n",
       "       'avg_liab_sum_total_closed_agr', 'total_liab_sum_bki_open_agr',\n",
       "       'outstanding_open', 'y'],\n",
       "      dtype='object')"
      ]
     },
     "execution_count": 34,
     "metadata": {},
     "output_type": "execute_result"
    }
   ],
   "source": [
    "final_cols=df4.columns.drop(collinear_features)\n",
    "print(len(final_cols))\n",
    "final_cols"
   ]
  },
  {
   "cell_type": "code",
   "execution_count": 35,
   "metadata": {
    "id": "wmC3Cs3DENP6"
   },
   "outputs": [
    {
     "data": {
      "text/html": [
       "<div>\n",
       "<style scoped>\n",
       "    .dataframe tbody tr th:only-of-type {\n",
       "        vertical-align: middle;\n",
       "    }\n",
       "\n",
       "    .dataframe tbody tr th {\n",
       "        vertical-align: top;\n",
       "    }\n",
       "\n",
       "    .dataframe thead th {\n",
       "        text-align: right;\n",
       "    }\n",
       "</style>\n",
       "<table border=\"1\" class=\"dataframe\">\n",
       "  <thead>\n",
       "    <tr style=\"text-align: right;\">\n",
       "      <th></th>\n",
       "      <th>att_sum_max</th>\n",
       "      <th>att_cnt</th>\n",
       "      <th>age</th>\n",
       "      <th>max_liab_sum_bank_open</th>\n",
       "      <th>avg_liab_sum_total_closed_agr</th>\n",
       "      <th>total_liab_sum_bki_open_agr</th>\n",
       "      <th>outstanding_open</th>\n",
       "      <th>y</th>\n",
       "    </tr>\n",
       "  </thead>\n",
       "  <tbody>\n",
       "    <tr>\n",
       "      <th>6</th>\n",
       "      <td>0.000633</td>\n",
       "      <td>0.000010</td>\n",
       "      <td>0.000191</td>\n",
       "      <td>0.0</td>\n",
       "      <td>0.241321</td>\n",
       "      <td>0.0</td>\n",
       "      <td>0.0</td>\n",
       "      <td>0.0</td>\n",
       "    </tr>\n",
       "    <tr>\n",
       "      <th>7</th>\n",
       "      <td>0.002467</td>\n",
       "      <td>0.000086</td>\n",
       "      <td>0.000191</td>\n",
       "      <td>0.0</td>\n",
       "      <td>0.241296</td>\n",
       "      <td>0.0</td>\n",
       "      <td>0.0</td>\n",
       "      <td>0.0</td>\n",
       "    </tr>\n",
       "    <tr>\n",
       "      <th>8</th>\n",
       "      <td>0.003115</td>\n",
       "      <td>0.000005</td>\n",
       "      <td>0.000191</td>\n",
       "      <td>0.0</td>\n",
       "      <td>0.241317</td>\n",
       "      <td>0.0</td>\n",
       "      <td>0.0</td>\n",
       "      <td>0.0</td>\n",
       "    </tr>\n",
       "    <tr>\n",
       "      <th>9</th>\n",
       "      <td>0.047712</td>\n",
       "      <td>0.000010</td>\n",
       "      <td>0.000190</td>\n",
       "      <td>0.0</td>\n",
       "      <td>0.239916</td>\n",
       "      <td>0.0</td>\n",
       "      <td>0.0</td>\n",
       "      <td>0.0</td>\n",
       "    </tr>\n",
       "    <tr>\n",
       "      <th>10</th>\n",
       "      <td>0.017400</td>\n",
       "      <td>0.000163</td>\n",
       "      <td>0.000191</td>\n",
       "      <td>0.0</td>\n",
       "      <td>0.240970</td>\n",
       "      <td>0.0</td>\n",
       "      <td>0.0</td>\n",
       "      <td>0.0</td>\n",
       "    </tr>\n",
       "  </tbody>\n",
       "</table>\n",
       "</div>"
      ],
      "text/plain": [
       "    att_sum_max   att_cnt       age  max_liab_sum_bank_open  \\\n",
       "6      0.000633  0.000010  0.000191                     0.0   \n",
       "7      0.002467  0.000086  0.000191                     0.0   \n",
       "8      0.003115  0.000005  0.000191                     0.0   \n",
       "9      0.047712  0.000010  0.000190                     0.0   \n",
       "10     0.017400  0.000163  0.000191                     0.0   \n",
       "\n",
       "    avg_liab_sum_total_closed_agr  total_liab_sum_bki_open_agr  \\\n",
       "6                        0.241321                          0.0   \n",
       "7                        0.241296                          0.0   \n",
       "8                        0.241317                          0.0   \n",
       "9                        0.239916                          0.0   \n",
       "10                       0.240970                          0.0   \n",
       "\n",
       "    outstanding_open    y  \n",
       "6                0.0  0.0  \n",
       "7                0.0  0.0  \n",
       "8                0.0  0.0  \n",
       "9                0.0  0.0  \n",
       "10               0.0  0.0  "
      ]
     },
     "execution_count": 35,
     "metadata": {},
     "output_type": "execute_result"
    }
   ],
   "source": [
    "#уберем по одному из пары коллинеарных признаков\n",
    "df5=df4[final_cols]\n",
    "df5.head()"
   ]
  },
  {
   "cell_type": "markdown",
   "metadata": {
    "id": "AMnvniu3ENP6"
   },
   "source": [
    "# Описательная статистика"
   ]
  },
  {
   "cell_type": "code",
   "execution_count": 36,
   "metadata": {
    "colab": {
     "base_uri": "https://localhost:8080/",
     "height": 334
    },
    "id": "fNJsI5s3QUSc",
    "outputId": "d4eeb99e-08d9-48fc-e17f-cbf005fa74be"
   },
   "outputs": [
    {
     "data": {
      "text/html": [
       "<div>\n",
       "<style scoped>\n",
       "    .dataframe tbody tr th:only-of-type {\n",
       "        vertical-align: middle;\n",
       "    }\n",
       "\n",
       "    .dataframe tbody tr th {\n",
       "        vertical-align: top;\n",
       "    }\n",
       "\n",
       "    .dataframe thead th {\n",
       "        text-align: right;\n",
       "    }\n",
       "</style>\n",
       "<table border=\"1\" class=\"dataframe\">\n",
       "  <thead>\n",
       "    <tr style=\"text-align: right;\">\n",
       "      <th></th>\n",
       "      <th>att_sum_max</th>\n",
       "      <th>att_cnt</th>\n",
       "      <th>age</th>\n",
       "      <th>max_liab_sum_bank_open</th>\n",
       "      <th>avg_liab_sum_total_closed_agr</th>\n",
       "      <th>total_liab_sum_bki_open_agr</th>\n",
       "      <th>outstanding_open</th>\n",
       "      <th>y</th>\n",
       "    </tr>\n",
       "  </thead>\n",
       "  <tbody>\n",
       "    <tr>\n",
       "      <th>count</th>\n",
       "      <td>3.132590e+05</td>\n",
       "      <td>3.132590e+05</td>\n",
       "      <td>3.132590e+05</td>\n",
       "      <td>313259.000000</td>\n",
       "      <td>313259.000000</td>\n",
       "      <td>313259.000000</td>\n",
       "      <td>313259.000000</td>\n",
       "      <td>313259.000000</td>\n",
       "    </tr>\n",
       "    <tr>\n",
       "      <th>mean</th>\n",
       "      <td>6.716928e-02</td>\n",
       "      <td>2.871138e-04</td>\n",
       "      <td>4.963283e-03</td>\n",
       "      <td>0.152994</td>\n",
       "      <td>0.116854</td>\n",
       "      <td>0.055757</td>\n",
       "      <td>0.171462</td>\n",
       "      <td>0.415484</td>\n",
       "    </tr>\n",
       "    <tr>\n",
       "      <th>std</th>\n",
       "      <td>1.485128e-01</td>\n",
       "      <td>1.308611e-03</td>\n",
       "      <td>2.699362e-02</td>\n",
       "      <td>0.192930</td>\n",
       "      <td>0.134249</td>\n",
       "      <td>0.139210</td>\n",
       "      <td>0.185235</td>\n",
       "      <td>0.492806</td>\n",
       "    </tr>\n",
       "    <tr>\n",
       "      <th>min</th>\n",
       "      <td>1.766834e-09</td>\n",
       "      <td>4.260636e-09</td>\n",
       "      <td>1.429488e-07</td>\n",
       "      <td>0.000000</td>\n",
       "      <td>0.000000</td>\n",
       "      <td>0.000000</td>\n",
       "      <td>-0.016333</td>\n",
       "      <td>0.000000</td>\n",
       "    </tr>\n",
       "    <tr>\n",
       "      <th>25%</th>\n",
       "      <td>4.124999e-04</td>\n",
       "      <td>9.952127e-07</td>\n",
       "      <td>1.221112e-05</td>\n",
       "      <td>0.000000</td>\n",
       "      <td>0.007003</td>\n",
       "      <td>0.000000</td>\n",
       "      <td>0.000000</td>\n",
       "      <td>0.000000</td>\n",
       "    </tr>\n",
       "    <tr>\n",
       "      <th>50%</th>\n",
       "      <td>1.947479e-03</td>\n",
       "      <td>3.884668e-06</td>\n",
       "      <td>3.655938e-05</td>\n",
       "      <td>0.000000</td>\n",
       "      <td>0.067248</td>\n",
       "      <td>0.000000</td>\n",
       "      <td>0.100231</td>\n",
       "      <td>0.000000</td>\n",
       "    </tr>\n",
       "    <tr>\n",
       "      <th>75%</th>\n",
       "      <td>1.936270e-02</td>\n",
       "      <td>2.567196e-05</td>\n",
       "      <td>1.712378e-04</td>\n",
       "      <td>0.348439</td>\n",
       "      <td>0.173918</td>\n",
       "      <td>0.000000</td>\n",
       "      <td>0.341716</td>\n",
       "      <td>1.000000</td>\n",
       "    </tr>\n",
       "    <tr>\n",
       "      <th>max</th>\n",
       "      <td>7.019364e-01</td>\n",
       "      <td>1.087379e-01</td>\n",
       "      <td>7.278848e-01</td>\n",
       "      <td>0.651927</td>\n",
       "      <td>0.558805</td>\n",
       "      <td>0.935702</td>\n",
       "      <td>0.706004</td>\n",
       "      <td>1.000000</td>\n",
       "    </tr>\n",
       "  </tbody>\n",
       "</table>\n",
       "</div>"
      ],
      "text/plain": [
       "        att_sum_max       att_cnt           age  max_liab_sum_bank_open  \\\n",
       "count  3.132590e+05  3.132590e+05  3.132590e+05           313259.000000   \n",
       "mean   6.716928e-02  2.871138e-04  4.963283e-03                0.152994   \n",
       "std    1.485128e-01  1.308611e-03  2.699362e-02                0.192930   \n",
       "min    1.766834e-09  4.260636e-09  1.429488e-07                0.000000   \n",
       "25%    4.124999e-04  9.952127e-07  1.221112e-05                0.000000   \n",
       "50%    1.947479e-03  3.884668e-06  3.655938e-05                0.000000   \n",
       "75%    1.936270e-02  2.567196e-05  1.712378e-04                0.348439   \n",
       "max    7.019364e-01  1.087379e-01  7.278848e-01                0.651927   \n",
       "\n",
       "       avg_liab_sum_total_closed_agr  total_liab_sum_bki_open_agr  \\\n",
       "count                  313259.000000                313259.000000   \n",
       "mean                        0.116854                     0.055757   \n",
       "std                         0.134249                     0.139210   \n",
       "min                         0.000000                     0.000000   \n",
       "25%                         0.007003                     0.000000   \n",
       "50%                         0.067248                     0.000000   \n",
       "75%                         0.173918                     0.000000   \n",
       "max                         0.558805                     0.935702   \n",
       "\n",
       "       outstanding_open              y  \n",
       "count     313259.000000  313259.000000  \n",
       "mean           0.171462       0.415484  \n",
       "std            0.185235       0.492806  \n",
       "min           -0.016333       0.000000  \n",
       "25%            0.000000       0.000000  \n",
       "50%            0.100231       0.000000  \n",
       "75%            0.341716       1.000000  \n",
       "max            0.706004       1.000000  "
      ]
     },
     "execution_count": 36,
     "metadata": {},
     "output_type": "execute_result"
    }
   ],
   "source": [
    "df5.describe()"
   ]
  },
  {
   "cell_type": "code",
   "execution_count": 37,
   "metadata": {},
   "outputs": [
    {
     "name": "stdout",
     "output_type": "stream",
     "text": [
      "0.0    183105\n",
      "1.0    130154\n",
      "Name: y, dtype: int64\n"
     ]
    },
    {
     "data": {
      "image/png": "[encoded data removed]",
      "text/plain": [
       "<Figure size 720x504 with 1 Axes>"
      ]
     },
     "metadata": {
      "needs_background": "light"
     },
     "output_type": "display_data"
    }
   ],
   "source": [
    "plt.figure(figsize=(10,7))\n",
    "plt.title('y', fontsize = 15)\n",
    "sns.countplot(x='y',data=df5)\n",
    "print(df5.y.value_counts())"
   ]
  },
  {
   "cell_type": "code",
   "execution_count": 38,
   "metadata": {},
   "outputs": [
    {
     "data": {
      "text/plain": [
       "<matplotlib.axes._subplots.AxesSubplot at 0x2130688fd08>"
      ]
     },
     "execution_count": 38,
     "metadata": {},
     "output_type": "execute_result"
    },
    {
     "data": {
      "image/png": "[encoded data removed]",
      "text/plain": [
       "<Figure size 720x504 with 1 Axes>"
      ]
     },
     "metadata": {
      "needs_background": "light"
     },
     "output_type": "display_data"
    }
   ],
   "source": [
    "plt.figure(figsize=(10,7))\n",
    "df2[[\"age\"]].boxplot()"
   ]
  },
  {
   "cell_type": "code",
   "execution_count": 39,
   "metadata": {},
   "outputs": [
    {
     "data": {
      "text/plain": [
       "<matplotlib.axes._subplots.AxesSubplot at 0x2130688f908>"
      ]
     },
     "execution_count": 39,
     "metadata": {},
     "output_type": "execute_result"
    },
    {
     "data": {
      "image/png": "[encoded data removed]",
      "text/plain": [
       "<Figure size 720x504 with 1 Axes>"
      ]
     },
     "metadata": {
      "needs_background": "light"
     },
     "output_type": "display_data"
    }
   ],
   "source": [
    "plt.figure(figsize=(10,7))\n",
    "sns.boxplot(x='y', y='age', data=df2)"
   ]
  },
  {
   "cell_type": "code",
   "execution_count": 40,
   "metadata": {},
   "outputs": [
    {
     "data": {
      "image/png": "[encoded data removed]",
      "text/plain": [
       "<Figure size 720x576 with 1 Axes>"
      ]
     },
     "metadata": {
      "needs_background": "light"
     },
     "output_type": "display_data"
    },
    {
     "data": {
      "image/png": "[encoded data removed]",
      "text/plain": [
       "<Figure size 720x576 with 1 Axes>"
      ]
     },
     "metadata": {
      "needs_background": "light"
     },
     "output_type": "display_data"
    },
    {
     "data": {
      "image/png": "[encoded data removed]",
      "text/plain": [
       "<Figure size 720x576 with 1 Axes>"
      ]
     },
     "metadata": {
      "needs_background": "light"
     },
     "output_type": "display_data"
    }
   ],
   "source": [
    "def get_cols(df) -> list:\n",
    "    '''\n",
    "    function return list of name numbers and categorials columns\n",
    "    '''\n",
    "    categorical_feature_mask = df.dtypes == object\n",
    "    number_feature_mask = df.dtypes != object\n",
    "    numbers_cols = df.columns[number_feature_mask].tolist()\n",
    "    categorical_cols = df.columns[categorical_feature_mask].tolist()\n",
    "    return [numbers_cols, categorical_cols]\n",
    "\n",
    "numbers_cols, categorical_cols = get_cols(df2)\n",
    "\n",
    "for column in categorical_cols:\n",
    "\n",
    "    columne_most_freq = df[column].value_counts()[:10].sort_values(ascending=False).index\n",
    "\n",
    "    if '' in columne_most_freq:\n",
    "        columne_most_freq = columne_most_freq.drop('')\n",
    "\n",
    "    fig, axes = plt.subplots(nrows=1, ncols=1, figsize=(10,8))\n",
    "\n",
    "\n",
    "    plt.title(f'{column} Histogram')\n",
    "    sns.countplot(\n",
    "            df[df[column].isin(columne_most_freq)][column],\n",
    "            order=columne_most_freq\n",
    "    )\n",
    "\n",
    "    plt.xticks(rotation=45)\n",
    "\n",
    "\n",
    "\n",
    "    plt.show()"
   ]
  },
  {
   "cell_type": "code",
   "execution_count": 41,
   "metadata": {
    "colab": {
     "base_uri": "https://localhost:8080/",
     "height": 355
    },
    "id": "NM8oyBs6ENP9",
    "outputId": "6f42b181-58c9-4f53-ffc4-095b494a860f"
   },
   "outputs": [
    {
     "data": {
      "image/png": "[encoded data removed]",
      "text/plain": [
       "<Figure size 720x360 with 1 Axes>"
      ]
     },
     "metadata": {
      "needs_background": "light"
     },
     "output_type": "display_data"
    }
   ],
   "source": [
    "plt.figure(figsize = (10, 5))\n",
    "sns.distplot(a=df5[\"y\"], hist=False, kde=True, rug=False)\n",
    "plt.title('Распределение целевого атрибута', fontsize = 15)\n",
    "plt.grid(True)"
   ]
  },
  {
   "cell_type": "code",
   "execution_count": 42,
   "metadata": {
    "colab": {
     "base_uri": "https://localhost:8080/",
     "height": 626
    },
    "id": "YyS64gdaENP9",
    "outputId": "bdc2a514-52e5-4baa-ffa0-7a296575f707"
   },
   "outputs": [
    {
     "data": {
      "text/html": [
       "<div>\n",
       "<style scoped>\n",
       "    .dataframe tbody tr th:only-of-type {\n",
       "        vertical-align: middle;\n",
       "    }\n",
       "\n",
       "    .dataframe tbody tr th {\n",
       "        vertical-align: top;\n",
       "    }\n",
       "\n",
       "    .dataframe thead th {\n",
       "        text-align: right;\n",
       "    }\n",
       "</style>\n",
       "<table border=\"1\" class=\"dataframe\">\n",
       "  <thead>\n",
       "    <tr style=\"text-align: right;\">\n",
       "      <th></th>\n",
       "      <th>att_sum_max</th>\n",
       "      <th>att_cnt</th>\n",
       "      <th>age</th>\n",
       "      <th>max_liab_sum_bank_open</th>\n",
       "      <th>avg_liab_sum_total_closed_agr</th>\n",
       "      <th>total_liab_sum_bki_open_agr</th>\n",
       "      <th>outstanding_open</th>\n",
       "    </tr>\n",
       "  </thead>\n",
       "  <tbody>\n",
       "    <tr>\n",
       "      <th>6</th>\n",
       "      <td>0.000633</td>\n",
       "      <td>0.000010</td>\n",
       "      <td>0.000191</td>\n",
       "      <td>0.0</td>\n",
       "      <td>0.241321</td>\n",
       "      <td>0.0</td>\n",
       "      <td>0.0</td>\n",
       "    </tr>\n",
       "    <tr>\n",
       "      <th>7</th>\n",
       "      <td>0.002467</td>\n",
       "      <td>0.000086</td>\n",
       "      <td>0.000191</td>\n",
       "      <td>0.0</td>\n",
       "      <td>0.241296</td>\n",
       "      <td>0.0</td>\n",
       "      <td>0.0</td>\n",
       "    </tr>\n",
       "    <tr>\n",
       "      <th>8</th>\n",
       "      <td>0.003115</td>\n",
       "      <td>0.000005</td>\n",
       "      <td>0.000191</td>\n",
       "      <td>0.0</td>\n",
       "      <td>0.241317</td>\n",
       "      <td>0.0</td>\n",
       "      <td>0.0</td>\n",
       "    </tr>\n",
       "    <tr>\n",
       "      <th>9</th>\n",
       "      <td>0.047712</td>\n",
       "      <td>0.000010</td>\n",
       "      <td>0.000190</td>\n",
       "      <td>0.0</td>\n",
       "      <td>0.239916</td>\n",
       "      <td>0.0</td>\n",
       "      <td>0.0</td>\n",
       "    </tr>\n",
       "    <tr>\n",
       "      <th>10</th>\n",
       "      <td>0.017400</td>\n",
       "      <td>0.000163</td>\n",
       "      <td>0.000191</td>\n",
       "      <td>0.0</td>\n",
       "      <td>0.240970</td>\n",
       "      <td>0.0</td>\n",
       "      <td>0.0</td>\n",
       "    </tr>\n",
       "  </tbody>\n",
       "</table>\n",
       "</div>"
      ],
      "text/plain": [
       "    att_sum_max   att_cnt       age  max_liab_sum_bank_open  \\\n",
       "6      0.000633  0.000010  0.000191                     0.0   \n",
       "7      0.002467  0.000086  0.000191                     0.0   \n",
       "8      0.003115  0.000005  0.000191                     0.0   \n",
       "9      0.047712  0.000010  0.000190                     0.0   \n",
       "10     0.017400  0.000163  0.000191                     0.0   \n",
       "\n",
       "    avg_liab_sum_total_closed_agr  total_liab_sum_bki_open_agr  \\\n",
       "6                        0.241321                          0.0   \n",
       "7                        0.241296                          0.0   \n",
       "8                        0.241317                          0.0   \n",
       "9                        0.239916                          0.0   \n",
       "10                       0.240970                          0.0   \n",
       "\n",
       "    outstanding_open  \n",
       "6                0.0  \n",
       "7                0.0  \n",
       "8                0.0  \n",
       "9                0.0  \n",
       "10               0.0  "
      ]
     },
     "execution_count": 42,
     "metadata": {},
     "output_type": "execute_result"
    }
   ],
   "source": [
    "X=df5.drop('y', axis=1)\n",
    "y=df5[\"y\"]\n",
    "X.head()"
   ]
  },
  {
   "cell_type": "code",
   "execution_count": 43,
   "metadata": {
    "id": "MwYM-HLNENP9"
   },
   "outputs": [],
   "source": [
    "# разделим выборку на обучающую и тестовую\n",
    "X_train, X_test, y_train, y_test = train_test_split(X, y, test_size=0.3, random_state=0,stratify=y)"
   ]
  },
  {
   "cell_type": "markdown",
   "metadata": {},
   "source": [
    "## Выбор метрики"
   ]
  },
  {
   "cell_type": "markdown",
   "metadata": {},
   "source": [
    "accuracy — доля правильных ответов алгоритма.\n",
    "Эта метрика бесполезна в задачах с неравными классами.\n",
    "Большинство клиентов не заинтересовано в кредитах, поэтому, если алгоритм не покажет рекламу никому, эта метрика все равно покажет неплохой результат.\n",
    "\n",
    "precision=true positive/(true positive+false positive) \n",
    "Доля полезной рекламы среди всей, которую мы дали.\n",
    "Precison тем лучше, чем меньше рекламы данной зря среди всей рекламы.\n",
    "Эта метрика полезна, если для нас важнее всего не показывать рекламу впустую.\n",
    "\n",
    "recall= true positive/(true positive+false negative)  \n",
    "Cколько людей, которым мы правильно дали рекламу,среди тех, кому должны были её дать.\n",
    "recall тем лучше, чем меньше людей, которым не дали рекламу, но должны были.\n",
    "Эта метрика полезна, если для нас важнее, чтобы каждый, кто заинтересован в потребительском кредите, увидел его рекламу.\n",
    "\n",
    "Для нас важнее охватить всех, кто заинтересован в потребительском кредите, поэтому выбираем метрику recall"
   ]
  },
  {
   "cell_type": "code",
   "execution_count": 44,
   "metadata": {
    "colab": {
     "base_uri": "https://localhost:8080/"
    },
    "id": "dC6VzqTsENP-",
    "outputId": "c99d7c85-fe12-41fd-df70-55ccb6903298"
   },
   "outputs": [
    {
     "name": "stdout",
     "output_type": "stream",
     "text": [
      "Recall DecisionTreeClassifier (train) = 100.00%\n",
      "Recall DecisionTreeClassifier (test) = 99.44%\n"
     ]
    }
   ],
   "source": [
    "from sklearn.tree import DecisionTreeClassifier\n",
    "from sklearn.metrics import accuracy_score, r2_score\n",
    "\n",
    "\n",
    "dtree = DecisionTreeClassifier().fit(X_train, y_train)\n",
    "d_predict = dtree.predict(X_test)\n",
    "recall_train = sklearn.metrics.recall_score(y_train, dtree.predict(X_train))\n",
    "recall_test = sklearn.metrics.recall_score(y_test, d_predict)\n",
    "print(f'Recall DecisionTreeClassifier (train) = {recall_train:.2%}')\n",
    "print(f'Recall DecisionTreeClassifier (test) = {recall_test:.2%}')                                        "
   ]
  },
  {
   "cell_type": "code",
   "execution_count": 45,
   "metadata": {
    "colab": {
     "base_uri": "https://localhost:8080/"
    },
    "id": "_qippMr4ENP-",
    "outputId": "14774691-ffd6-4880-9635-98e26915ffd5"
   },
   "outputs": [
    {
     "name": "stdout",
     "output_type": "stream",
     "text": [
      "Recall RandomForestClassifier (train) = 100.00%\n",
      "Recall RandomForestClassifier (test) = 99.66%\n"
     ]
    }
   ],
   "source": [
    "from sklearn.ensemble import RandomForestClassifier\n",
    "\n",
    "\n",
    "rf = RandomForestClassifier()\n",
    "rf.fit(X_train, y_train)\n",
    "rf_predict = rf.predict(X_test)\n",
    "recall_test=sklearn.metrics.recall_score(y_test, rf_predict)\n",
    "recall_train=sklearn.metrics.recall_score(y_train, rf.predict(X_train))\n",
    "print(f'Recall RandomForestClassifier (train) = {recall_train:.2%}')\n",
    "print(f'Recall RandomForestClassifier (test) = {recall_test:.2%}')  "
   ]
  },
  {
   "cell_type": "markdown",
   "metadata": {},
   "source": [
    "## Подбор параметров"
   ]
  },
  {
   "cell_type": "code",
   "execution_count": 46,
   "metadata": {},
   "outputs": [],
   "source": [
    "import matplotlib.pyplot as plt\n",
    "\n",
    "\n",
    "def show_parameter_selection(train_acc, test_acc, grid, xlabel, ymin=0.99, ymax=1.005):\n",
    "    plt.style.use('ggplot')\n",
    "    %matplotlib inline\n",
    "    train_acc, test_acc = np.asarray(train_acc), np.asarray(test_acc)\n",
    "    fig, ax = plt.subplots(figsize=(8, 4))\n",
    "    ax.plot(grid, train_acc, alpha=0.5, color='blue', label='train')\n",
    "    ax.plot(grid, test_acc, alpha=0.5, color='red', label='test')\n",
    "    ax.set_title(\"Подбор \" + xlabel)\n",
    "    ax.legend(loc='best')\n",
    "    ax.set_ylim([ymin,ymax])\n",
    "    ax.set_ylabel(\"recall\")\n",
    "    ax.set_xlabel(xlabel)"
   ]
  },
  {
   "cell_type": "code",
   "execution_count": 47,
   "metadata": {},
   "outputs": [
    {
     "data": {
      "image/png": "[encoded data removed]",
      "text/plain": [
       "<Figure size 576x288 with 1 Axes>"
      ]
     },
     "metadata": {
      "needs_background": "light"
     },
     "output_type": "display_data"
    }
   ],
   "source": [
    "train_acc = []\n",
    "test_acc = []\n",
    "trees_grid = [10,20,40,50]\n",
    "for ntrees in trees_grid:\n",
    "    rfc = RandomForestClassifier(n_estimators=ntrees, random_state=42, n_jobs=-1, oob_score=True)\n",
    "    rfc.fit(X_train, y_train)\n",
    "    \n",
    "    train_acc.append(sklearn.metrics.recall_score(y_test, rfc.predict(X_test)))\n",
    "    test_acc.append(sklearn.metrics.recall_score(y_train, rfc.predict(X_train)))\n",
    "\n",
    "show_parameter_selection(train_acc, test_acc, trees_grid, \"N_estimators\")   "
   ]
  },
  {
   "cell_type": "code",
   "execution_count": 51,
   "metadata": {},
   "outputs": [
    {
     "data": {
      "image/png": "[encoded data removed]",
      "text/plain": [
       "<Figure size 576x288 with 1 Axes>"
      ]
     },
     "metadata": {
      "needs_background": "light"
     },
     "output_type": "display_data"
    }
   ],
   "source": [
    "train_acc = []\n",
    "test_acc = []\n",
    "max_depth_grid = [3, 10, 20, 24,27,35]\n",
    "for max_depth in max_depth_grid:\n",
    "    rfc = RandomForestClassifier(n_estimators=50, random_state=42,max_depth=max_depth, n_jobs=-1, oob_score=True)\n",
    "    rfc.fit(X_train, y_train)\n",
    "    \n",
    "    train_acc.append(sklearn.metrics.recall_score(y_test, rfc.predict(X_test)))\n",
    "    test_acc.append(sklearn.metrics.recall_score(y_train, rfc.predict(X_train)))\n",
    "    \n",
    "show_parameter_selection(train_acc, test_acc, max_depth_grid, \"max_depth\", ymin=0.95)   "
   ]
  },
  {
   "cell_type": "code",
   "execution_count": 49,
   "metadata": {},
   "outputs": [
    {
     "data": {
      "image/png": "[encoded data removed]",
      "text/plain": [
       "<Figure size 576x288 with 1 Axes>"
      ]
     },
     "metadata": {
      "needs_background": "light"
     },
     "output_type": "display_data"
    }
   ],
   "source": [
    "train_acc = []\n",
    "test_acc = []\n",
    "min_samples_leaf_grid = [1, 5, 9, 13, 17, 22, 27]\n",
    "for min_samples_leaf in min_samples_leaf_grid:\n",
    "    rfc = RandomForestClassifier(n_estimators=50, random_state=42,min_samples_leaf=min_samples_leaf, n_jobs=-1, oob_score=True)\n",
    "    rfc.fit(X_train, y_train)\n",
    "    \n",
    "    train_acc.append(sklearn.metrics.recall_score(y_test, rfc.predict(X_test)))\n",
    "    test_acc.append(sklearn.metrics.recall_score(y_train, rfc.predict(X_train)))\n",
    "    \n",
    "show_parameter_selection(train_acc, test_acc, min_samples_leaf_grid, \"min_samples_leaf\", ymin=0.98)   "
   ]
  },
  {
   "cell_type": "code",
   "execution_count": 52,
   "metadata": {},
   "outputs": [
    {
     "data": {
      "image/png": "[encoded data removed]",
      "text/plain": [
       "<Figure size 576x288 with 1 Axes>"
      ]
     },
     "metadata": {
      "needs_background": "light"
     },
     "output_type": "display_data"
    }
   ],
   "source": [
    "train_acc = []\n",
    "test_acc = []\n",
    "max_features_grid = [2, 4, 6, 7]\n",
    "for max_features in max_features_grid:\n",
    "    rfc = RandomForestClassifier(n_estimators=50, random_state=42,max_features=max_features, n_jobs=-1, oob_score=True)\n",
    "    rfc.fit(X_train, y_train)\n",
    "    \n",
    "    train_acc.append(sklearn.metrics.recall_score(y_test, rfc.predict(X_test)))\n",
    "    test_acc.append(sklearn.metrics.recall_score(y_train, rfc.predict(X_train)))\n",
    "    \n",
    "show_parameter_selection(train_acc,test_acc,max_features_grid,\"max_features\")   "
   ]
  },
  {
   "cell_type": "markdown",
   "metadata": {},
   "source": [
    "Готовая модель"
   ]
  },
  {
   "cell_type": "code",
   "execution_count": 53,
   "metadata": {},
   "outputs": [
    {
     "name": "stdout",
     "output_type": "stream",
     "text": [
      "Recall RandomForestClassifier (train) = 100.00%\n",
      "Recall RandomForestClassifier (test) = 99.80%\n"
     ]
    }
   ],
   "source": [
    "from sklearn.ensemble import RandomForestClassifier\n",
    "from sklearn.model_selection import GridSearchCV, cross_val_score\n",
    "from sklearn.metrics import accuracy_score,mean_squared_error,r2_score\n",
    "from sklearn.model_selection import cross_val_score\n",
    "\n",
    "rf = RandomForestClassifier(n_estimators=50, max_depth=30, min_samples_leaf=1, max_features=4)\n",
    "rf.fit(X_train, y_train)\n",
    "rf_predict = rf.predict(X_test)\n",
    "recall_test=sklearn.metrics.recall_score(y_test, rf_predict)\n",
    "recall_train=sklearn.metrics.recall_score(y_train, rf.predict(X_train))\n",
    "print(f'Recall RandomForestClassifier (train) = {recall_train:.2%}')\n",
    "print(f'Recall RandomForestClassifier (test) = {recall_test:.2%}')  "
   ]
  },
  {
   "cell_type": "code",
   "execution_count": 56,
   "metadata": {
    "id": "iZqtbKxiENP_"
   },
   "outputs": [
    {
     "name": "stdout",
     "output_type": "stream",
     "text": [
      "Feature ranking:\n",
      "1. outstanding_open 0.356138 \n",
      "2. max_liab_sum_bank_open 0.268467 \n",
      "3. age 0.153674 \n",
      "4. total_liab_sum_bki_open_agr 0.136385 \n",
      "5. avg_liab_sum_total_closed_agr 0.069084 \n",
      "6. att_sum_max 0.011193 \n",
      "7. att_cnt 0.005059 \n"
     ]
    },
    {
     "data": {
      "image/png": "[encoded data removed]",
      "text/plain": [
       "<Figure size 1080x360 with 1 Axes>"
      ]
     },
     "metadata": {
      "needs_background": "light"
     },
     "output_type": "display_data"
    }
   ],
   "source": [
    "importances=rf.feature_importances_\n",
    "indices = np.argsort(importances)[::-1]\n",
    "num_to_plot = len(indices)\n",
    "feature_indices = [ind+1 for ind in indices[:num_to_plot]]\n",
    "\n",
    "print(\"Feature ranking:\")\n",
    "\n",
    "for f in range(num_to_plot):\n",
    "    print(\"%d. %s %f \" % (f + 1, \n",
    "            X_train.columns[indices[f]], \n",
    "            importances[indices[f]]))\n",
    "plt.figure(figsize=(15,5))\n",
    "plt.title(u\"Важность атрибутов\")\n",
    "bars = plt.bar(range(num_to_plot), \n",
    "               importances[indices[:num_to_plot]],\n",
    "       color=([str(i/float(num_to_plot+1)) \n",
    "               for i in range(num_to_plot)]),\n",
    "               align=\"center\")\n",
    "ticks = plt.xticks(range(num_to_plot), \n",
    "                   feature_indices)\n",
    "plt.xlim([-1, num_to_plot])\n",
    "plt.legend(bars, [u''.join(X_train.columns[i]) \n",
    "                  for i in indices]);"
   ]
  },
  {
   "cell_type": "code",
   "execution_count": 55,
   "metadata": {},
   "outputs": [
    {
     "data": {
      "text/html": [
       "<div>\n",
       "<style scoped>\n",
       "    .dataframe tbody tr th:only-of-type {\n",
       "        vertical-align: middle;\n",
       "    }\n",
       "\n",
       "    .dataframe tbody tr th {\n",
       "        vertical-align: top;\n",
       "    }\n",
       "\n",
       "    .dataframe thead th {\n",
       "        text-align: right;\n",
       "    }\n",
       "</style>\n",
       "<table border=\"1\" class=\"dataframe\">\n",
       "  <thead>\n",
       "    <tr style=\"text-align: right;\">\n",
       "      <th></th>\n",
       "      <th>original</th>\n",
       "      <th>predicted</th>\n",
       "    </tr>\n",
       "  </thead>\n",
       "  <tbody>\n",
       "    <tr>\n",
       "      <th>0</th>\n",
       "      <td>0.0</td>\n",
       "      <td>0.0</td>\n",
       "    </tr>\n",
       "    <tr>\n",
       "      <th>1</th>\n",
       "      <td>1.0</td>\n",
       "      <td>1.0</td>\n",
       "    </tr>\n",
       "    <tr>\n",
       "      <th>2</th>\n",
       "      <td>0.0</td>\n",
       "      <td>0.0</td>\n",
       "    </tr>\n",
       "    <tr>\n",
       "      <th>3</th>\n",
       "      <td>1.0</td>\n",
       "      <td>1.0</td>\n",
       "    </tr>\n",
       "    <tr>\n",
       "      <th>4</th>\n",
       "      <td>0.0</td>\n",
       "      <td>0.0</td>\n",
       "    </tr>\n",
       "    <tr>\n",
       "      <th>5</th>\n",
       "      <td>1.0</td>\n",
       "      <td>1.0</td>\n",
       "    </tr>\n",
       "    <tr>\n",
       "      <th>6</th>\n",
       "      <td>0.0</td>\n",
       "      <td>0.0</td>\n",
       "    </tr>\n",
       "    <tr>\n",
       "      <th>7</th>\n",
       "      <td>0.0</td>\n",
       "      <td>0.0</td>\n",
       "    </tr>\n",
       "    <tr>\n",
       "      <th>8</th>\n",
       "      <td>0.0</td>\n",
       "      <td>0.0</td>\n",
       "    </tr>\n",
       "    <tr>\n",
       "      <th>9</th>\n",
       "      <td>0.0</td>\n",
       "      <td>0.0</td>\n",
       "    </tr>\n",
       "    <tr>\n",
       "      <th>10</th>\n",
       "      <td>0.0</td>\n",
       "      <td>0.0</td>\n",
       "    </tr>\n",
       "    <tr>\n",
       "      <th>11</th>\n",
       "      <td>0.0</td>\n",
       "      <td>0.0</td>\n",
       "    </tr>\n",
       "  </tbody>\n",
       "</table>\n",
       "</div>"
      ],
      "text/plain": [
       "    original  predicted\n",
       "0        0.0        0.0\n",
       "1        1.0        1.0\n",
       "2        0.0        0.0\n",
       "3        1.0        1.0\n",
       "4        0.0        0.0\n",
       "5        1.0        1.0\n",
       "6        0.0        0.0\n",
       "7        0.0        0.0\n",
       "8        0.0        0.0\n",
       "9        0.0        0.0\n",
       "10       0.0        0.0\n",
       "11       0.0        0.0"
      ]
     },
     "execution_count": 55,
     "metadata": {},
     "output_type": "execute_result"
    }
   ],
   "source": [
    "d2=pd.DataFrame(rf.predict(X_train.head(12)),columns=['predicted'])\n",
    "d1=pd.DataFrame(list(y_train.head(12)),index=d2.index,columns=['original'])\n",
    "d1.join(d2)"
   ]
  },
  {
   "cell_type": "markdown",
   "metadata": {},
   "source": [
    "# Вывод:"
   ]
  },
  {
   "cell_type": "markdown",
   "metadata": {},
   "source": [
    "Целью нашей работы было создание системы персонализированных рекомендаций, которая определяла бы склонность клиента к продукту \"потребительский кредит\"\n",
    "\n",
    "В ходе анализа было установлено, что на целевую переменную (заинтересованность в кредите) больше всего влияют следующие параметры:\n",
    "\n",
    "outstanding_open (значим на 36%) - суммарная оставшаяся непогашенная задолженность по открытым счетам,\n",
    "max_liab_sum_bank_open (значим на 27%) - максимальная переоцененная в рубли сумма обязательства по открытым договорам по данным банка\n",
    "age(значим на 16%) - возраст клиента (в годах) на дату расчета\n",
    "total_liab_sum_bki_open_agr(значим на 14%) - общая переоцененная в рубли сумма обязательства по открытым договорам по данным бки\n",
    "\n",
    "Метрикой точности модели был выбран recall, так как для нас важнее, чтобы каждый, кто заинтересован в потребительском кредите, увидел его рекламу.\n",
    "Главная функция модели выполняется, метрика принимает значение 99.80%"
   ]
  },
  {
   "cell_type": "code",
   "execution_count": null,
   "metadata": {},
   "outputs": [],
   "source": []
  }
 ],
 "metadata": {
  "colab": {
   "collapsed_sections": [],
   "name": "Сережка.ipynb",
   "provenance": [],
   "toc_visible": true
  },
  "kernelspec": {
   "display_name": "Python 3",
   "language": "python",
   "name": "python3"
  },
  "language_info": {
   "codemirror_mode": {
    "name": "ipython",
    "version": 3
   },
   "file_extension": ".py",
   "mimetype": "text/x-python",
   "name": "python",
   "nbconvert_exporter": "python",
   "pygments_lexer": "ipython3",
   "version": "3.7.6"
  }
 },
 "nbformat": 4,
 "nbformat_minor": 1
}
